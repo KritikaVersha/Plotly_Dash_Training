{
 "cells": [
  {
   "cell_type": "markdown",
   "metadata": {},
   "source": [
    "### 1. Catching errors with PreventUpdate"
   ]
  },
  {
   "cell_type": "code",
   "execution_count": null,
   "metadata": {},
   "outputs": [],
   "source": [
    "from IPython.display import display_html\n",
    "display_html(\"<script>Jupyter.notebook.kernel.restart()</script>\",raw=True)"
   ]
  },
  {
   "cell_type": "markdown",
   "metadata": {},
   "source": [
    "Raise PreventUpdate catch if click counts are greater than 3."
   ]
  },
  {
   "cell_type": "code",
   "execution_count": null,
   "metadata": {},
   "outputs": [],
   "source": [
    "from dash import Dash, dcc, html\n",
    "from jupyter_dash import JupyterDash\n",
    "from dash.dependencies import Input, Output\n",
    "from dash.exceptions import PreventUpdate\n",
    "\n",
    "external_stylesheets = ['https://codepen.io/chriddyp/pen/bWLwgP.css']\n",
    "\n",
    "#app = dash.Dash(__name__, external_stylesheets=external_stylesheets)\n",
    "app = JupyterDash(__name__, external_stylesheets=external_stylesheets)\n",
    "\n",
    "app.layout = html.Div([\n",
    "    html.Button('Click here to see the content', id='show-secret'),\n",
    "    html.Div(id='body-div')\n",
    "])\n",
    "\n",
    "@app.callback(\n",
    "    Output(component_id='body-div', component_property='children'),\n",
    "    Input(component_id='show-secret', component_property='n_clicks')\n",
    ")\n",
    "def update_output(n_clicks):\n",
    "    if n_clicks is None or n_clicks > 3:\n",
    "        # Update this section to catch error\n",
    "        raise PreventUpdate\n",
    "    else:\n",
    "        return \"Click count: \" + str(n_clicks)\n",
    "\n",
    "app.run_server(mode='inline')"
   ]
  },
  {
   "cell_type": "code",
   "execution_count": null,
   "metadata": {},
   "outputs": [],
   "source": [
    "from IPython.display import display_html\n",
    "display_html(\"<script>Jupyter.notebook.kernel.restart()</script>\",raw=True)"
   ]
  },
  {
   "cell_type": "markdown",
   "metadata": {},
   "source": [
    "### 2. Displaying errors with dash.no_update"
   ]
  },
  {
   "cell_type": "markdown",
   "metadata": {},
   "source": [
    "PreventUpdate prevents all of the outputs from getting updated. dash_no_update is used when you want conditions on preventing updates."
   ]
  },
  {
   "cell_type": "code",
   "execution_count": null,
   "metadata": {},
   "outputs": [],
   "source": [
    "import dash\n",
    "from dash import Dash, dcc, html\n",
    "from jupyter_dash import JupyterDash\n",
    "from dash.dependencies import Input, Output\n",
    "from dash.exceptions import PreventUpdate\n",
    "\n",
    "external_stylesheets = ['https://codepen.io/chriddyp/pen/bWLwgP.css']\n",
    "\n",
    "#app = dash.Dash(__name__, external_stylesheets=external_stylesheets)\n",
    "app = JupyterDash(__name__, external_stylesheets=external_stylesheets)\n",
    "\n",
    "app.layout = html.Div([\n",
    "    html.P('Enter a composite number to see its prime factors'),\n",
    "    dcc.Input(id='num', type='number', debounce=True, min=1, step=1),\n",
    "    html.P(id='err', style={'color': 'red'}),\n",
    "    html.P(id='out')\n",
    "])\n",
    "\n",
    "@app.callback(\n",
    "    Output('out', 'children'),\n",
    "    Output('err', 'children'),\n",
    "    Input('num', 'value')\n",
    ")\n",
    "def show_factors(num):\n",
    "    if num is None:\n",
    "        raise PreventUpdate\n",
    "\n",
    "    factors = prime_factors(num)\n",
    "    if len(factors) == 1:\n",
    "        # raise a no_update exception here\n",
    "        dash.no_update\n",
    "        \n",
    "\n",
    "    return '{} is {}'.format(num, ' * '.join(str(n) for n in factors)), ''\n",
    "\n",
    "def prime_factors(num):\n",
    "    n, i, out = num, 2, []\n",
    "    while i * i <= n:\n",
    "        if n % i == 0:\n",
    "            n = int(n / i)\n",
    "            out.append(i)\n",
    "        else:\n",
    "            i += 1 if i == 2 else 2\n",
    "    out.append(n)\n",
    "    return out\n",
    "\n",
    "app.run_server(mode='inline')"
   ]
  },
  {
   "cell_type": "code",
   "execution_count": null,
   "metadata": {},
   "outputs": [],
   "source": [
    "from IPython.display import display_html\n",
    "display_html(\"<script>Jupyter.notebook.kernel.restart()</script>\",raw=True)"
   ]
  },
  {
   "cell_type": "markdown",
   "metadata": {},
   "source": [
    "### 3. Counting callbacks with dash.callback_context"
   ]
  },
  {
   "cell_type": "markdown",
   "metadata": {},
   "source": [
    "#### Bug: https://github.com/plotly/dash/issues/1040\n",
    "#### Bug: https://github.com/plotly/dash/issues/684"
   ]
  },
  {
   "cell_type": "code",
   "execution_count": null,
   "metadata": {},
   "outputs": [],
   "source": [
    "from IPython.display import display_html\n",
    "display_html(\"<script>Jupyter.notebook.kernel.restart()</script>\",raw=True)"
   ]
  },
  {
   "cell_type": "code",
   "execution_count": null,
   "metadata": {},
   "outputs": [],
   "source": [
    "import json\n",
    "import dash\n",
    "from dash import Dash, dcc, html\n",
    "from jupyter_dash import JupyterDash\n",
    "from dash.dependencies import Input, Output\n",
    "\n",
    "#app = dash.Dash(__name__)\n",
    "app = JupyterDash(__name__)\n",
    "\n",
    "app.layout = html.Div([\n",
    "    html.Button('Button 1', id='btn-1'),\n",
    "    html.Button('Button 2', id='btn-2'),\n",
    "    html.Button('Button 3', id='btn-3'),\n",
    "    html.Div(id='container')\n",
    "])\n",
    "\n",
    "\n",
    "@app.callback(Output('container', 'children'),\n",
    "              Input('btn-1', 'n_clicks'),\n",
    "              Input('btn-2', 'n_clicks'),\n",
    "              Input('btn-3', 'n_clicks'))\n",
    "def display(btn1, btn2, btn3):\n",
    "    ctx = dash.callback_context\n",
    "    if not ctx.triggered:\n",
    "        button_id = 'No clicks yet'\n",
    "    else:\n",
    "        button_id = ctx.triggered[0]['prop_id'].split('.')[0]\n",
    "\n",
    "    ctx_msg = json.dumps({\n",
    "        'states': ctx.states,\n",
    "        'triggered': ctx.triggered,\n",
    "        'inputs': ctx.inputs\n",
    "    }, indent=2)\n",
    "\n",
    "    return html.Div([\n",
    "        html.Table([\n",
    "            html.Tr([html.Th('Button 1'),\n",
    "                     html.Th('Button 2'),\n",
    "                     html.Th('Button 3'),\n",
    "                     html.Th('Most Recent Click')]),\n",
    "            html.Tr([html.Td(btn1 or 0),\n",
    "                     html.Td(btn2 or 0),\n",
    "                     html.Td(btn3 or 0),\n",
    "                     html.Td(button_id)])\n",
    "        ]),\n",
    "        html.Pre(ctx_msg)\n",
    "    ])\n",
    "\n",
    "\n",
    "app.run_server(mode='inline')"
   ]
  },
  {
   "cell_type": "code",
   "execution_count": null,
   "metadata": {},
   "outputs": [],
   "source": [
    "from IPython.display import display_html\n",
    "display_html(\"<script>Jupyter.notebook.kernel.restart()</script>\",raw=True)"
   ]
  },
  {
   "cell_type": "markdown",
   "metadata": {},
   "source": [
    "### 4. Delaying Callback Execution Upon Initial Component Render"
   ]
  },
  {
   "cell_type": "code",
   "execution_count": null,
   "metadata": {},
   "outputs": [],
   "source": [
    "from dash import Dash, dcc, html\n",
    "from jupyter_dash import JupyterDash\n",
    "from dash.dependencies import Input, Output\n",
    "from datetime import datetime\n",
    "import time\n",
    "\n",
    "#app = dash.Dash(__name__)\n",
    "app = JupyterDash(__name__)\n",
    "\n",
    "app.layout = html.Div(\n",
    "    [\n",
    "        html.Button(\"execute callbacks\", id=\"button_2\"),\n",
    "        html.Div(children=\"callback not executed\", id=\"first_output_2\"),\n",
    "        html.Div(children=\"callback not executed\", id=\"second_output_2\"),\n",
    "        html.Div(children=\"callback not executed\", id=\"third_output_2\"),\n",
    "        html.Div(children=\"callback not executed\", id=\"fourth_output_2\"),\n",
    "    ]\n",
    ")\n",
    "\n",
    "\n",
    "@app.callback(\n",
    "    Output(\"first_output_2\", \"children\"),\n",
    "    Output(\"second_output_2\", \"children\"),\n",
    "    Input(\"button_2\", \"n_clicks\"), prevent_initial_call=True)\n",
    "def first_callback(n):\n",
    "    now = datetime.now()\n",
    "    current_time = now.strftime(\"%H:%M:%S\")\n",
    "    return [\"in the first callback it is \" + current_time, \"in the first callback it is \" + current_time]\n",
    "\n",
    "\n",
    "# Update the input component to prevent initial callback on rendering\n",
    "@app.callback(\n",
    "    Output(\"third_output_2\", \"children\"), Input(\"second_output_2\", \"children\"), prevent_initial_call= True)\n",
    "def second_callback(n):\n",
    "    time.sleep(5)\n",
    "    now = datetime.now()\n",
    "    current_time = now.strftime(\"%H:%M:%S\")\n",
    "    return \"in the second callback it is \" + current_time\n",
    "\n",
    "\n",
    "# Update the input component to prevent initial callback on rendering\n",
    "@app.callback(\n",
    "    Output(\"fourth_output_2\", \"children\"),\n",
    "    Input(\"first_output_2\", \"children\"),\n",
    "    Input(\"third_output_2\", \"children\"), prevent_initial_call=True)\n",
    "def third_output(n, m):\n",
    "    time.sleep(10)\n",
    "    now = datetime.now()\n",
    "    current_time = now.strftime(\"%H:%M:%S\")\n",
    "    return \"in the third callback it is \" + current_time\n",
    "\n",
    "\n",
    "app.run_server(mode='inline')"
   ]
  },
  {
   "cell_type": "code",
   "execution_count": null,
   "metadata": {},
   "outputs": [],
   "source": [
    "from IPython.display import display_html\n",
    "display_html(\"<script>Jupyter.notebook.kernel.restart()</script>\",raw=True)"
   ]
  },
  {
   "cell_type": "markdown",
   "metadata": {},
   "source": [
    "### 5. Circular Callbacks"
   ]
  },
  {
   "cell_type": "markdown",
   "metadata": {},
   "source": [
    "#### Example 1: Displaying Two Inputs with Different Units Example"
   ]
  },
  {
   "cell_type": "code",
   "execution_count": null,
   "metadata": {},
   "outputs": [],
   "source": [
    "import dash\n",
    "from dash.dependencies import Input, Output, State\n",
    "from dash import Dash, dcc, html\n",
    "from jupyter_dash import JupyterDash\n",
    "\n",
    "external_stylesheets = [\"https://codepen.io/chriddyp/pen/bWLwgP.css\"]\n",
    "\n",
    "#app = dash.Dash(__name__, external_stylesheets=external_stylesheets)\n",
    "app = JupyterDash(__name__, external_stylesheets=external_stylesheets)\n",
    "\n",
    "app.layout = html.Div([\n",
    "    html.Div('Currency Conversion'),\n",
    "    'INR',\n",
    "    dcc.Input(\n",
    "        id=\"inr\",\n",
    "        value=70.0,\n",
    "        type=\"number\"\n",
    "    ),\n",
    "    ' = USD',\n",
    "    dcc.Input(\n",
    "        id=\"usd\",\n",
    "        value=1.0,\n",
    "        type=\"number\",\n",
    "    ),\n",
    "])\n",
    "\n",
    "@app.callback(\n",
    "    Output(\"inr\", \"value\"),\n",
    "    Output(\"usd\", \"value\"),\n",
    "    Input(\"inr\", \"value\"),\n",
    "    Input(\"usd\", \"value\"),\n",
    ")\n",
    "def sync_input(inr, usd):\n",
    "    ctx = dash.callback_context\n",
    "    input_id = ctx.triggered[0][\"prop_id\"].split(\".\")[0]\n",
    "    if input_id == \"inr\":\n",
    "        usd= None if (inr is None or inr <= 0) else float(inr)/70\n",
    "    else:\n",
    "        inr = None if (usd is None or usd <= 0) else float(usd)*70\n",
    "    return inr, usd\n",
    "\n",
    "app.run_server(mode='inline')"
   ]
  },
  {
   "cell_type": "code",
   "execution_count": null,
   "metadata": {},
   "outputs": [],
   "source": [
    "from IPython.display import display_html\n",
    "display_html(\"<script>Jupyter.notebook.kernel.restart()</script>\",raw=True)"
   ]
  },
  {
   "cell_type": "markdown",
   "metadata": {},
   "source": [
    "### 6. Pattern Matching Callbacks\n",
    "- All\n",
    "- Match\n",
    "- AllSmaller"
   ]
  },
  {
   "cell_type": "markdown",
   "metadata": {},
   "source": [
    "### Render dynamically created components with 'ALL' "
   ]
  },
  {
   "cell_type": "code",
   "execution_count": null,
   "metadata": {
    "scrolled": true
   },
   "outputs": [],
   "source": [
    "import dash\n",
    "from dash.dependencies import Input, Output, State, MATCH, ALL\n",
    "from dash import Dash, dcc, html\n",
    "from jupyter_dash import JupyterDash\n",
    "\n",
    "\n",
    "app = JupyterDash(__name__, suppress_callback_exceptions=True)\n",
    "\n",
    "app.layout = html.Div([\n",
    "    html.Button(\"Add Filter\", id=\"add-filter\", n_clicks=0),\n",
    "    html.Div(id='dropdown-container', children=[]),\n",
    "    html.Div(id='dropdown-container-output')\n",
    "])\n",
    "\n",
    "@app.callback(\n",
    "    Output('dropdown-container', 'children'),\n",
    "    Input('add-filter', 'n_clicks'),\n",
    "    State('dropdown-container', 'children'))\n",
    "def display_dropdowns(n_clicks, children):\n",
    "    new_dropdown = dcc.Dropdown(\n",
    "        id={\n",
    "            'type': 'filter-dropdown',\n",
    "            'index': n_clicks\n",
    "        },\n",
    "        options=[{'label': i, 'value': i} for i in ['NYC', 'MTL', 'LA', 'TOKYO']]\n",
    "    )\n",
    "    children.append(new_dropdown)\n",
    "    return children\n",
    "\n",
    "# Add a callback function here\n",
    "@app.callback(\n",
    "    Output('dropdown-container-output', 'children'),\n",
    "    Input({'type': 'filter-dropdown', 'index': ALL}, 'value')\n",
    ")\n",
    "def display_output(values):\n",
    "    return html.Div([\n",
    "        html.Div('Dropdown {} = {}'.format(i + 1, value))\n",
    "        for (i, value) in enumerate(values)\n",
    "    ])\n",
    "\n",
    "app.run_server(mode='inline')"
   ]
  },
  {
   "cell_type": "code",
   "execution_count": null,
   "metadata": {},
   "outputs": [],
   "source": [
    "from IPython.display import display_html\n",
    "display_html(\"<script>Jupyter.notebook.kernel.restart()</script>\",raw=True)"
   ]
  },
  {
   "cell_type": "markdown",
   "metadata": {},
   "source": [
    "### 7. Long Callbacks"
   ]
  },
  {
   "cell_type": "markdown",
   "metadata": {},
   "source": [
    "A DiskCache backend that runs callback logic in a separate process and stores the results to disk using the diskcache library."
   ]
  },
  {
   "cell_type": "markdown",
   "metadata": {},
   "source": [
    "### Example 1: Simple Example"
   ]
  },
  {
   "cell_type": "code",
   "execution_count": null,
   "metadata": {},
   "outputs": [],
   "source": [
    "from IPython.display import display_html\n",
    "display_html(\"<script>Jupyter.notebook.kernel.restart()</script>\",raw=True)"
   ]
  },
  {
   "cell_type": "code",
   "execution_count": null,
   "metadata": {},
   "outputs": [],
   "source": [
    "import time\n",
    "import dash\n",
    "from dash import html\n",
    "from dash.long_callback import DiskcacheLongCallbackManager\n",
    "from dash.dependencies import Input, Output\n",
    "from jupyter_dash import JupyterDash\n",
    "\n",
    "## Diskcache: Use diskcache to create a long callback manager\n",
    "import diskcache\n",
    "cache = diskcache.Cache(\"./cache\")\n",
    "long_callback_manager = DiskcacheLongCallbackManager(cache)\n",
    "\n",
    "app = JupyterDash(__name__)\n",
    "\n",
    "app.layout = html.Div(\n",
    "    [\n",
    "        html.Div([html.P(id=\"paragraph_id\", children=[\"Button not clicked\"])]),\n",
    "        html.Button(id=\"button_id\", children=\"Run Job!\"),\n",
    "    ]\n",
    ")\n",
    "\n",
    "@app.long_callback(\n",
    "    output=Output(\"paragraph_id\", \"children\"),\n",
    "    inputs=Input(\"button_id\", \"n_clicks\"),\n",
    "    manager=long_callback_manager,\n",
    ")\n",
    "def callback(n_clicks):\n",
    "    time.sleep(2.0)\n",
    "    return [f\"Clicked {n_clicks} times\"]\n",
    "\n",
    "\n",
    "\n",
    "app.run_server(mode='inline')\n"
   ]
  },
  {
   "cell_type": "code",
   "execution_count": null,
   "metadata": {},
   "outputs": [],
   "source": [
    "from IPython.display import display_html\n",
    "display_html(\"<script>Jupyter.notebook.kernel.restart()</script>\",raw=True)"
   ]
  },
  {
   "cell_type": "markdown",
   "metadata": {},
   "source": [
    "### Example 2: Disable Button While Callback is Running"
   ]
  },
  {
   "cell_type": "code",
   "execution_count": null,
   "metadata": {},
   "outputs": [],
   "source": [
    "import time\n",
    "import dash\n",
    "from dash import html\n",
    "from dash.long_callback import DiskcacheLongCallbackManager\n",
    "from dash.dependencies import Input, Output\n",
    "\n",
    "## Diskcache\n",
    "import diskcache\n",
    "\n",
    "cache = diskcache.Cache(\"./cache\")\n",
    "long_callback_manager = DiskcacheLongCallbackManager(cache)\n",
    "\n",
    "app = dash.Dash(__name__, long_callback_manager=long_callback_manager)\n",
    "\n",
    "app.layout = html.Div(\n",
    "    [\n",
    "        html.Div([html.P(id=\"paragraph_id\", children=[\"Button not clicked\"])]),\n",
    "        html.Button(id=\"button_id\", children=\"Run Job!\"),\n",
    "    ]\n",
    ")\n",
    "\n",
    "@app.long_callback(\n",
    "    output=Output(\"paragraph_id\", \"children\"),\n",
    "    inputs=Input(\"button_id\", \"n_clicks\"),\n",
    "    # disable the button_id while the callback is running here\n",
    "    running=[\n",
    "        (Output(\"\", \"disabled\"), True, False),\n",
    "    ],\n",
    ")\n",
    "def callback(n_clicks):\n",
    "    time.sleep(2.0)\n",
    "    return [f\"Clicked {n_clicks} times\"]\n",
    "\n",
    "\n",
    "\n",
    "app.run_server(mode='inline')"
   ]
  },
  {
   "cell_type": "code",
   "execution_count": null,
   "metadata": {},
   "outputs": [],
   "source": [
    "from IPython.display import display_html\n",
    "display_html(\"<script>Jupyter.notebook.kernel.restart()</script>\",raw=True)"
   ]
  },
  {
   "cell_type": "markdown",
   "metadata": {},
   "source": [
    "### Example 3: Cancelable Callback"
   ]
  },
  {
   "cell_type": "code",
   "execution_count": null,
   "metadata": {},
   "outputs": [],
   "source": [
    "import time\n",
    "import dash\n",
    "from dash import html\n",
    "from dash.long_callback import DiskcacheLongCallbackManager\n",
    "from dash.dependencies import Input, Output\n",
    "\n",
    "## Diskcache\n",
    "import diskcache\n",
    "\n",
    "cache = diskcache.Cache(\"./cache\")\n",
    "long_callback_manager = DiskcacheLongCallbackManager(cache)\n",
    "\n",
    "app = dash.Dash(__name__, long_callback_manager=long_callback_manager)\n",
    "\n",
    "app.layout = html.Div(\n",
    "    [\n",
    "        html.Div([html.P(id=\"paragraph_id\", children=[\"Button not clicked\"])]),\n",
    "        html.Button(id=\"button_id\", children=\"Run Job!\"),\n",
    "        html.Button(id=\"cancel_button_id\", children=\"Cancel Running Job!\"),\n",
    "    ]\n",
    ")\n",
    "\n",
    "@app.long_callback(\n",
    "    output=Output(\"paragraph_id\", \"children\"),\n",
    "    inputs=Input(\"button_id\", \"n_clicks\"),\n",
    "    running=[\n",
    "        (Output(\"button_id\", \"disabled\"), True, False),\n",
    "        (Output(\"cancel_button_id\", \"disabled\"), False, True),\n",
    "    ],\n",
    "    # Cancel the button id here\n",
    "    cancel=,\n",
    ")\n",
    "def callback(n_clicks):\n",
    "    time.sleep(2.0)\n",
    "    return [f\"Clicked {n_clicks} times\"]\n",
    "\n",
    "\n",
    "\n",
    "app.run_server(mode='inline')"
   ]
  },
  {
   "cell_type": "code",
   "execution_count": null,
   "metadata": {},
   "outputs": [],
   "source": [
    "from IPython.display import display_html\n",
    "display_html(\"<script>Jupyter.notebook.kernel.restart()</script>\",raw=True)"
   ]
  },
  {
   "cell_type": "markdown",
   "metadata": {},
   "source": [
    "### Example 4: Progress Bar"
   ]
  },
  {
   "cell_type": "code",
   "execution_count": null,
   "metadata": {},
   "outputs": [],
   "source": [
    "import time\n",
    "import dash\n",
    "from dash import html\n",
    "from dash.long_callback import DiskcacheLongCallbackManager\n",
    "from dash.dependencies import Input, Output\n",
    "\n",
    "## Diskcache\n",
    "import diskcache\n",
    "cache = diskcache.Cache(\"./cache\")\n",
    "long_callback_manager = DiskcacheLongCallbackManager(cache)\n",
    "\n",
    "app = JupyterDash(__name__, long_callback_manager=long_callback_manager)\n",
    "\n",
    "app.layout = html.Div(\n",
    "    [\n",
    "        html.Div(\n",
    "            [\n",
    "                html.P(id=\"paragraph_id\", children=[\"Button not clicked\"]),\n",
    "                html.Progress(id=\"progress_bar\"),\n",
    "            ]\n",
    "        ),\n",
    "        html.Button(id=\"button_id\", children=\"Run Job!\"),\n",
    "        html.Button(id=\"cancel_button_id\", children=\"Cancel Running Job!\"),\n",
    "    ]\n",
    ")\n",
    "\n",
    "@app.long_callback(\n",
    "    output=Output(\"paragraph_id\", \"children\"),\n",
    "    inputs=Input(\"button_id\", \"n_clicks\"),\n",
    "    running=[\n",
    "        (Output(\"button_id\", \"disabled\"), True, False),\n",
    "        (Output(\"cancel_button_id\", \"disabled\"), False, True),\n",
    "        (\n",
    "            Output(\"paragraph_id\", \"style\"),\n",
    "            {\"visibility\": \"hidden\"},\n",
    "            {\"visibility\": \"visible\"},\n",
    "        ),\n",
    "        (\n",
    "            Output(\"progress_bar\", \"style\"),\n",
    "            {\"visibility\": \"visible\"},\n",
    "            {\"visibility\": \"hidden\"},\n",
    "        ),\n",
    "    ],\n",
    "    cancel=[Input(\"cancel_button_id\", \"n_clicks\")],\n",
    "    # Display the progress during long callback here\n",
    "    progress=,\n",
    ")\n",
    "def callback(set_progress, n_clicks):\n",
    "    total = 10\n",
    "    for i in range(total):\n",
    "        time.sleep(0.5)\n",
    "        set_progress((str(i + 1), str(total)))\n",
    "    return [f\"Clicked {n_clicks} times\"]\n",
    "\n",
    "\n",
    "\n",
    "app.run_server(mode='inline')"
   ]
  },
  {
   "cell_type": "code",
   "execution_count": null,
   "metadata": {},
   "outputs": [],
   "source": [
    "from IPython.display import display_html\n",
    "display_html(\"<script>Jupyter.notebook.kernel.restart()</script>\",raw=True)"
   ]
  },
  {
   "cell_type": "markdown",
   "metadata": {},
   "source": [
    "### Sharing Data Between Callbacks Using dcc.Store"
   ]
  },
  {
   "cell_type": "code",
   "execution_count": null,
   "metadata": {},
   "outputs": [],
   "source": [
    "from dash import Dash, dcc, html\n",
    "from dash.dependencies import Output, Input, State\n",
    "from dash.exceptions import PreventUpdate\n",
    "from jupyter_dash import JupyterDash\n",
    "\n",
    "# This stylesheet makes the buttons and table pretty.\n",
    "external_stylesheets = ['https://codepen.io/chriddyp/pen/bWLwgP.css']\n",
    "\n",
    "#app = dash.Dash(__name__, external_stylesheets=external_stylesheets)\n",
    "app = JupyterDash(__name__, external_stylesheets=external_stylesheets)\n",
    "\n",
    "app.layout = html.Div([\n",
    "    # The memory store reverts to the default on every page refresh\n",
    "    dcc.Store(id='memory'),\n",
    "    # The local store will take the initial data\n",
    "    # only the first time the page is loaded\n",
    "    # and keep it until it is cleared.\n",
    "    dcc.Store(id='local', storage_type='local'),\n",
    "    # Same as the local store but will lose the data\n",
    "    # when the browser/tab closes.\n",
    "    dcc.Store(id='session', storage_type='session'),\n",
    "    html.Table([\n",
    "        html.Thead([\n",
    "            html.Tr(html.Th('Click to store in:', colSpan=\"3\")),\n",
    "            html.Tr([\n",
    "                html.Th(html.Button('memory', id='memory-button')),\n",
    "                html.Th(html.Button('localStorage', id='local-button')),\n",
    "                html.Th(html.Button('sessionStorage', id='session-button'))\n",
    "            ]),\n",
    "            html.Tr([\n",
    "                html.Th('Memory clicks'),\n",
    "                html.Th('Local clicks'),\n",
    "                html.Th('Session clicks')\n",
    "            ])\n",
    "        ]),\n",
    "        html.Tbody([\n",
    "            html.Tr([\n",
    "                html.Td(0, id='memory-clicks'),\n",
    "                html.Td(0, id='local-clicks'),\n",
    "                html.Td(0, id='session-clicks')\n",
    "            ])\n",
    "        ])\n",
    "    ])\n",
    "])\n",
    "\n",
    "# Create two callback for every store.\n",
    "for store in ('memory', 'local', 'session'):\n",
    "\n",
    "    # add a click to the appropriate store.\n",
    "    @app.callback(Output(store, 'data'),\n",
    "                  Input('{}-button'.format(store), 'n_clicks'),\n",
    "                  State(store, 'data'))\n",
    "    def on_click(n_clicks, data):\n",
    "        if n_clicks is None:\n",
    "            # prevent the None callbacks is important with the store component.\n",
    "            # you don't want to update the store for nothing.\n",
    "            raise PreventUpdate\n",
    "\n",
    "        # Give a default data dict with 0 clicks if there's no data.\n",
    "        data = data or {'clicks': 0}\n",
    "\n",
    "        data['clicks'] = data['clicks'] + 1\n",
    "        return data\n",
    "\n",
    "    # output the stored clicks in the table cell.\n",
    "    @app.callback(Output('{}-clicks'.format(store), 'children'),\n",
    "                  # Since we use the data prop in an output,\n",
    "                  # we cannot get the initial data on load with the data prop.\n",
    "                  # To counter this, you can use the modified_timestamp\n",
    "                  # as Input and the data as State.\n",
    "                  # This limitation is due to the initial None callbacks\n",
    "                  # https://github.com/plotly/dash-renderer/pull/81\n",
    "                  Input(store, 'modified_timestamp'),\n",
    "                  State(store, 'data'))\n",
    "    def on_data(ts, data):\n",
    "        if ts is None:\n",
    "            raise PreventUpdate\n",
    "\n",
    "        data = data or {}\n",
    "\n",
    "        return data.get('clicks', 0)\n",
    "\n",
    "\n",
    "\n",
    "app.run_server(mode='inline', threaded=True)"
   ]
  },
  {
   "cell_type": "code",
   "execution_count": null,
   "metadata": {},
   "outputs": [],
   "source": [
    "from IPython.display import display_html\n",
    "display_html(\"<script>Jupyter.notebook.kernel.restart()</script>\",raw=True)"
   ]
  }
 ],
 "metadata": {
  "kernelspec": {
   "display_name": "Python 3",
   "language": "python",
   "name": "python3"
  },
  "language_info": {
   "codemirror_mode": {
    "name": "ipython",
    "version": 3
   },
   "file_extension": ".py",
   "mimetype": "text/x-python",
   "name": "python",
   "nbconvert_exporter": "python",
   "pygments_lexer": "ipython3",
   "version": "3.8.5"
  }
 },
 "nbformat": 4,
 "nbformat_minor": 4
}
