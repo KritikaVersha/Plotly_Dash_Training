{
 "cells": [
  {
   "cell_type": "markdown",
   "metadata": {},
   "source": [
    "### 1. Simple interactive dash app"
   ]
  },
  {
   "cell_type": "code",
   "execution_count": null,
   "metadata": {},
   "outputs": [],
   "source": [
    "from IPython.display import display_html\n",
    "display_html(\"<script>Jupyter.notebook.kernel.restart()</script>\",raw=True)"
   ]
  },
  {
   "cell_type": "markdown",
   "metadata": {},
   "source": [
    "In the given layout, you have an \n",
    "1. Input component with \n",
    "    - id = 'input-text'\n",
    "    - initial value = 'initial input value'\n",
    "2. Output div area with\n",
    "    - id = output-text\n",
    "\n",
    "<b>Create a callback function that fetches input value and displays it in output area.\n",
    "\n",
    "Function Specifications:</b>\n",
    "1. Callback decorator - Specify the input and the output components in the callback decorator/wrapper\n",
    "2. Function:\n",
    "    - Name : 'update'\n",
    "    - Params: input component value\n",
    "    - Return value: output component value"
   ]
  },
  {
   "cell_type": "code",
   "execution_count": null,
   "metadata": {},
   "outputs": [],
   "source": [
    "from dash import Dash, dcc, html\n",
    "from jupyter_dash import JupyterDash\n",
    "\n",
    "# Import Dash Dependencies\n",
    "\n",
    "app = JupyterDash(__name__)\n",
    "\n",
    "app.layout = html.Div([\n",
    "    html.H6(\"Change the value in the text box to see callbacks in action!\"),\n",
    "    html.Div([\n",
    "        \"Input: \",\n",
    "        dcc.Input(id='input-text', value='initial input value', type='text')\n",
    "    ]),\n",
    "    html.Br(),\n",
    "    html.Div(id='output-text'),\n",
    "\n",
    "])\n",
    "\n",
    "# Create your callback function here\n",
    "\n",
    "app.run_server(mode='inline')"
   ]
  },
  {
   "cell_type": "code",
   "execution_count": null,
   "metadata": {},
   "outputs": [],
   "source": [
    "from IPython.display import display_html\n",
    "display_html(\"<script>Jupyter.notebook.kernel.restart()</script>\",raw=True)"
   ]
  },
  {
   "cell_type": "markdown",
   "metadata": {},
   "source": [
    "### 2. Dash App Layout With Figure and Slider"
   ]
  },
  {
   "cell_type": "markdown",
   "metadata": {},
   "source": [
    "In the given layout, you have:\n",
    "1. Plotly's gapminder 5 year data describing the life expectancy and gdp per capital income for each continent\n",
    "1. Slider component with \n",
    "    - id = 'year-slider'\n",
    "    - initial value = minimum year value from the function\n",
    "2. Output graph component with\n",
    "    - id = graph-output\n",
    "\n",
    "<b>Create a callback function that fetches slider value, filters the pandas dataframe value for the year and updates the graph.\n",
    "\n",
    "Function Specifications:</b>\n",
    "1. Callback decorator - Specify the input and the output components in the callback decorator/wrapper\n",
    "2. Function:\n",
    "    - Name : 'update'\n",
    "    - Params: slider component value\n",
    "    - Return value: Plotly express Scatterplot with filtered dataframe values"
   ]
  },
  {
   "cell_type": "code",
   "execution_count": null,
   "metadata": {},
   "outputs": [],
   "source": [
    "from dash import Dash, dcc, html\n",
    "from jupyter_dash import JupyterDash\n",
    "import plotly.express as px\n",
    "from dash.dependencies import Input, Output\n",
    "import pandas as pd\n",
    "\n",
    "\n",
    "df = pd.read_csv('https://raw.githubusercontent.com/plotly/datasets/master/gapminderDataFiveYear.csv')\n",
    "#app = dash.Dash(__name__)\n",
    "app = JupyterDash(__name__)\n",
    "\n",
    "\n",
    "app.layout = html.Div([\n",
    "    dcc.Graph(id='graph-output'),\n",
    "    dcc.Slider(\n",
    "        id='year-slider',\n",
    "        min=df['year'].min(),\n",
    "        max=df['year'].max(),\n",
    "        value=df['year'].min(),\n",
    "        marks={str(year): str(year) for year in df['year'].unique()},\n",
    "        step=None\n",
    "    )\n",
    "])\n",
    "\n",
    "\n",
    "# Create your callback function here\n",
    "\n",
    "\n",
    "app.run_server(mode='inline')\n",
    "\n"
   ]
  },
  {
   "cell_type": "code",
   "execution_count": null,
   "metadata": {},
   "outputs": [],
   "source": [
    "from IPython.display import display_html\n",
    "display_html(\"<script>Jupyter.notebook.kernel.restart()</script>\",raw=True)"
   ]
  },
  {
   "cell_type": "markdown",
   "metadata": {},
   "source": [
    "### 3. Dash App with Multiple Inputs"
   ]
  },
  {
   "cell_type": "markdown",
   "metadata": {},
   "source": [
    "In the given layout, you have:\n",
    "1. Plotly's country_indicators data describing different indicators in different geographic regions of the world\n",
    "2. Dropdown component for user-input value for x-axis with \n",
    "    - id = 'xaxis-column'\n",
    "    - options from available indicators\n",
    "    - initial value = 'Fertility rate, total (births per woman)'\n",
    "3. RadioItem component for user input choice of type of values for the indicator - Linear/Log\n",
    "    - id = xaxis-type\n",
    "    - options = Linear / Log\n",
    "    - initial value = Linear\n",
    "4. Dropdown component for user-input value for y-axis with \n",
    "    - id = 'yaxis-column'\n",
    "    - options from available indicators\n",
    "    - initial value = 'Fertility rate, total (births per woman)'\n",
    "5. RadioItem component for user input choice of type of values for the indicator - Linear/Log\n",
    "    - id = yaxis-type\n",
    "    - options = Linear / Log\n",
    "    - initial value = Linear\n",
    "6. Slider component for users to filter on year range\n",
    "    - id = year-slider\n",
    "    - min = minimum year value\n",
    "    - max = most recent year value\n",
    "    - initial value = most recent year value\n",
    "    - marks = all the years from the dataframe\n",
    "7. Output graph component with\n",
    "    - id = indicator-graphic\n",
    "\n",
    "<b>Create a callback function that fetches in the user choice of indicators/year from components to be compared on a scatterplot\n",
    "\n",
    "Function Specifications:</b>\n",
    "1. Callback decorator - Specify the input and the output components in the callback decorator/wrapper\n",
    "2. Function:\n",
    "    - Name : 'update'\n",
    "    - Params: slider component value\n",
    "    - Creates a scatterplot based on user inputs with updated values for x-axis, y-axis, slider year value and user selection of linear vs log graph types\n",
    "    - Return value: Plotly express Scatterplot with updated values"
   ]
  },
  {
   "cell_type": "code",
   "execution_count": 1,
   "metadata": {},
   "outputs": [
    {
     "data": {
      "text/html": [
       "\n",
       "        <iframe\n",
       "            width=\"100%\"\n",
       "            height=\"650\"\n",
       "            src=\"http://127.0.0.1:8050/\"\n",
       "            frameborder=\"0\"\n",
       "            allowfullscreen\n",
       "        ></iframe>\n",
       "        "
      ],
      "text/plain": [
       "<IPython.lib.display.IFrame at 0x7fe051b3e040>"
      ]
     },
     "metadata": {},
     "output_type": "display_data"
    }
   ],
   "source": [
    "from dash import Dash, dcc, html\n",
    "from jupyter_dash import JupyterDash\n",
    "import plotly.express as px\n",
    "from dash.dependencies import Input, Output\n",
    "import pandas as pd\n",
    "\n",
    "import pandas as pd\n",
    "\n",
    "#app = dash.Dash(__name__)\n",
    "app = JupyterDash(__name__)\n",
    "\n",
    "df = pd.read_csv('https://plotly.github.io/datasets/country_indicators.csv')\n",
    "\n",
    "available_indicators = df['Indicator Name'].unique()\n",
    "\n",
    "app.layout = html.Div([\n",
    "    html.Div([\n",
    "\n",
    "        html.Div([\n",
    "            dcc.Dropdown(\n",
    "                id='xaxis-column',\n",
    "                options=[{'label': i, 'value': i} for i in available_indicators],\n",
    "                value='Fertility rate, total (births per woman)'\n",
    "            ),\n",
    "            dcc.RadioItems(\n",
    "                id='xaxis-type',\n",
    "                options=[{'label': i, 'value': i} for i in ['Linear', 'Log']],\n",
    "                value='Linear',\n",
    "                labelStyle={'display': 'inline-block'}\n",
    "            )\n",
    "        ], style={'width': '48%', 'display': 'inline-block'}),\n",
    "\n",
    "        html.Div([\n",
    "            dcc.Dropdown(\n",
    "                id='yaxis-column',\n",
    "                options=[{'label': i, 'value': i} for i in available_indicators],\n",
    "                value='Life expectancy at birth, total (years)'\n",
    "            ),\n",
    "            dcc.RadioItems(\n",
    "                id='yaxis-type',\n",
    "                options=[{'label': i, 'value': i} for i in ['Linear', 'Log']],\n",
    "                value='Linear',\n",
    "                labelStyle={'display': 'inline-block'}\n",
    "            )\n",
    "        ], style={'width': '48%', 'float': 'right', 'display': 'inline-block'})\n",
    "    ]),\n",
    "\n",
    "    dcc.Graph(id='indicator-graphic'),\n",
    "\n",
    "    dcc.Slider(\n",
    "        id='year-slider',\n",
    "        min=df['Year'].min(),\n",
    "        max=df['Year'].max(),\n",
    "        value=df['Year'].max(),\n",
    "        marks={str(year): str(year) for year in df['Year'].unique()},\n",
    "        step=None\n",
    "    )\n",
    "])\n",
    "\n",
    "\n",
    "# Create a callback function here\n",
    "\n",
    "\n",
    "app.run_server(mode='inline')"
   ]
  },
  {
   "cell_type": "code",
   "execution_count": null,
   "metadata": {},
   "outputs": [
    {
     "data": {
      "text/html": [
       "<script>Jupyter.notebook.kernel.restart()</script>"
      ]
     },
     "metadata": {},
     "output_type": "display_data"
    }
   ],
   "source": [
    "from IPython.display import display_html\n",
    "display_html(\"<script>Jupyter.notebook.kernel.restart()</script>\",raw=True)"
   ]
  },
  {
   "cell_type": "markdown",
   "metadata": {},
   "source": [
    "### 4. Dash App With Multiple Outputs"
   ]
  },
  {
   "cell_type": "markdown",
   "metadata": {},
   "source": [
    "In the given layout, you have:\n",
    "\n",
    "1. Input component for user-input numeric value \n",
    "    - id = 'num-multi'\n",
    "    - initial value = 5\n",
    "2. HTML table with each row indicating squares, cubes and exponent values. Each row has an output id\n",
    "     -row 1 id: squares\n",
    "     -row 2 id: cubes\n",
    "     -row 3 id: twos\n",
    "     -row 4 id: threes\n",
    "     -row 5 id: x^x\n",
    "\n",
    "<b>Create a callback function that fetches in the user input numerical value and returns the values for each row\n",
    "\n",
    "Function Specifications:</b>\n",
    "1. Callback decorator - Specify the input and the output components in the callback decorator/wrapper\n",
    "2. Function:\n",
    "    - Name : 'update'\n",
    "    - Params: input component value\n",
    "    - Creates a scatterplot based on user inputs with updated values for x-axis, y-axis, slider year value and user selection of linear vs log graph types\n",
    "    - Return value: values for each row id i.e squares, cubes, twos, threes, x^x"
   ]
  },
  {
   "cell_type": "code",
   "execution_count": 1,
   "metadata": {},
   "outputs": [
    {
     "data": {
      "text/html": [
       "\n",
       "        <iframe\n",
       "            width=\"100%\"\n",
       "            height=\"650\"\n",
       "            src=\"http://127.0.0.1:8050/\"\n",
       "            frameborder=\"0\"\n",
       "            allowfullscreen\n",
       "        ></iframe>\n",
       "        "
      ],
      "text/plain": [
       "<IPython.lib.display.IFrame at 0x7fb7d980af10>"
      ]
     },
     "metadata": {},
     "output_type": "display_data"
    }
   ],
   "source": [
    "from dash import Dash, dcc, html\n",
    "from jupyter_dash import JupyterDash\n",
    "from dash.dependencies import Input, Output\n",
    "\n",
    "\n",
    "external_stylesheets = ['https://codepen.io/chriddyp/pen/bWLwgP.css']\n",
    "\n",
    "#app = dash.Dash(__name__, external_stylesheets=external_stylesheets)\n",
    "app = JupyterDash(__name__, external_stylesheets=external_stylesheets)\n",
    "\n",
    "app.layout = html.Div([\n",
    "    dcc.Input(\n",
    "        id='num-multi',\n",
    "        type='number',\n",
    "        value=5\n",
    "    ),\n",
    "    html.Table([\n",
    "        html.Tr([html.Td(['x', html.Sup(2)]), html.Td(id='square')]),\n",
    "        html.Tr([html.Td(['x', html.Sup(3)]), html.Td(id='cube')]),\n",
    "        html.Tr([html.Td([2, html.Sup('x')]), html.Td(id='twos')]),\n",
    "        html.Tr([html.Td([3, html.Sup('x')]), html.Td(id='threes')]),\n",
    "        html.Tr([html.Td(['x', html.Sup('x')]), html.Td(id='x^x')]),\n",
    "    ]),\n",
    "])\n",
    "\n",
    "\n",
    "# Create a callback function here\n",
    "\n",
    "\n",
    "app.run_server(mode='inline')"
   ]
  },
  {
   "cell_type": "code",
   "execution_count": null,
   "metadata": {},
   "outputs": [],
   "source": [
    "from IPython.display import display_html\n",
    "display_html(\"<script>Jupyter.notebook.kernel.restart()</script>\",raw=True)"
   ]
  },
  {
   "cell_type": "markdown",
   "metadata": {},
   "source": [
    "### 5. Dash App With Chained Callbacks"
   ]
  },
  {
   "cell_type": "markdown",
   "metadata": {},
   "source": [
    "In the given layout, you have:\n",
    "\n",
    "1. Component - 1\n",
    "    - type = RadioItems\n",
    "    - id = countries-radio\n",
    "    - options = America / Canada\n",
    "    \n",
    "2. Component - 2\n",
    "    - type = RadioItems\n",
    "    - id = cities-radio\n",
    "    - options = Updated values based on selection in component 1\n",
    "    \n",
    "3. Div element displaying the selected city from component 1 and state from component 2\n",
    "\n",
    "create three callback functions to update the output components as follows\n",
    "\n",
    "- Function 1:\n",
    "- Function Specifications:</b>\n",
    "1. Callback decorator - Specify the input and the output components in the callback decorator/wrapper\n",
    "2. Function:\n",
    "    - Name : 'set_cities_options'\n",
    "    - Params: input value of component id = countries-radio\n",
    "    - Return value: values for component id = cities-radio\n",
    "    \n",
    "- Function 2:\n",
    "- Function Specifications:</b>\n",
    "1. Callback decorator - Specify the input and the output components in the callback decorator/wrapper\n",
    "2. Function:\n",
    "    - Name : 'set_cities_value'\n",
    "    - Params: input value of component id = cities-radio\n",
    "    - Return value: values for component id = cities-radio\n",
    "    \n",
    "- Function 3:\n",
    "- Function Specifications:</b>\n",
    "1. Callback decorator - Specify the input and the output components in the callback decorator/wrapper\n",
    "2. Function:\n",
    "    - Name : 'set_display_children'\n",
    "    - Params: input component value with ids = countries-radio, cities-radio\n",
    "    - Return value: values for component id = display-selected-values"
   ]
  },
  {
   "cell_type": "code",
   "execution_count": 1,
   "metadata": {},
   "outputs": [
    {
     "data": {
      "text/html": [
       "\n",
       "        <iframe\n",
       "            width=\"100%\"\n",
       "            height=\"650\"\n",
       "            src=\"http://127.0.0.1:8050/\"\n",
       "            frameborder=\"0\"\n",
       "            allowfullscreen\n",
       "        ></iframe>\n",
       "        "
      ],
      "text/plain": [
       "<IPython.lib.display.IFrame at 0x7ffc518f3520>"
      ]
     },
     "metadata": {},
     "output_type": "display_data"
    }
   ],
   "source": [
    "from dash import Dash, dcc, html\n",
    "from jupyter_dash import JupyterDash\n",
    "from dash.dependencies import Input, Output\n",
    "\n",
    "external_stylesheets = ['https://codepen.io/chriddyp/pen/bWLwgP.css']\n",
    "\n",
    "#app = dash.Dash(__name__, external_stylesheets=external_stylesheets)\n",
    "app = JupyterDash(__name__, external_stylesheets=external_stylesheets)\n",
    "\n",
    "all_options = {\n",
    "    'America': ['New York City', 'San Francisco', 'Cincinnati'],\n",
    "    'Canada': [u'Montréal', 'Toronto', 'Ottawa']\n",
    "}\n",
    "app.layout = html.Div([\n",
    "    dcc.RadioItems(\n",
    "        id='countries-radio',\n",
    "        options=[{'label': k, 'value': k} for k in all_options.keys()],\n",
    "        value='America'\n",
    "    ),\n",
    "\n",
    "    html.Hr(),\n",
    "\n",
    "    dcc.RadioItems(id='cities-radio'),\n",
    "\n",
    "    html.Hr(),\n",
    "\n",
    "    html.Div(id='display-selected-values')\n",
    "])\n",
    "\n",
    "\n",
    "# Create callback functions here\n",
    "\n",
    "app.run_server(mode='inline')"
   ]
  },
  {
   "cell_type": "code",
   "execution_count": null,
   "metadata": {},
   "outputs": [
    {
     "data": {
      "text/html": [
       "<script>Jupyter.notebook.kernel.restart()</script>"
      ]
     },
     "metadata": {},
     "output_type": "display_data"
    }
   ],
   "source": [
    "from IPython.display import display_html\n",
    "display_html(\"<script>Jupyter.notebook.kernel.restart()</script>\",raw=True)"
   ]
  },
  {
   "cell_type": "markdown",
   "metadata": {},
   "source": [
    "### 6. Dash App With State"
   ]
  },
  {
   "cell_type": "markdown",
   "metadata": {},
   "source": [
    "In the given layout, you have:\n",
    "\n",
    "1. Component - State 1\n",
    "    - type = Input\n",
    "    - id = input-state-1\n",
    "    - initial value = Detroit    \n",
    "2. Component - State 2\n",
    "    - type = Input\n",
    "    - id = input-state-2\n",
    "    - initial value = Michigan    \n",
    "3. Input Component\n",
    "    - type = submit-button-state\n",
    "    - n_clicks = 0\n",
    "    - children = 'Submit'   \n",
    "4. Output Component\n",
    "    - id = output-state\n",
    "    - type = html.Div\n",
    "\n",
    "<b>Create three callback functions to update the output components based on user input values only when you click the submit button\n",
    "\n",
    "- Function Specifications:</b>\n",
    "1. Callback decorator - Specify the input and the output components in the callback decorator/wrapper\n",
    "2. Function:\n",
    "    - Name : 'update'\n",
    "    - Params: input value of component ids = input-state-1, input-state-2, submit-button-state\n",
    "    - Return value: values for component id = output-state\n",
    "    "
   ]
  },
  {
   "cell_type": "code",
   "execution_count": null,
   "metadata": {},
   "outputs": [],
   "source": [
    "# -*- coding: utf-8 -*-\n",
    "import dash\n",
    "import dash_core_components as dcc\n",
    "import dash_html_components as html\n",
    "from dash.dependencies import Input, Output, State\n",
    "import dash_design_kit as ddk\n",
    "\n",
    "external_stylesheets = ['https://codepen.io/chriddyp/pen/bWLwgP.css']\n",
    "\n",
    "#app = dash.Dash(__name__, external_stylesheets=external_stylesheets)\n",
    "app = JupyterDash(__name__, external_stylesheets=external_stylesheets)\n",
    "\n",
    "app.layout = html.Div([\n",
    "    dcc.Input(id='input-1-state', type='text', value='Montréal'),\n",
    "    dcc.Input(id='input-2-state', type='text', value='Canada'),\n",
    "    html.Button(id='submit-button-state', n_clicks=0, children='Submit'),\n",
    "    html.Div(id='output-state')\n",
    "])\n",
    "\n",
    "\n",
    "app.run_server(mode='inline')"
   ]
  },
  {
   "cell_type": "code",
   "execution_count": null,
   "metadata": {},
   "outputs": [],
   "source": [
    "from IPython.display import display_html\n",
    "display_html(\"<script>Jupyter.notebook.kernel.restart()</script>\",raw=True)"
   ]
  }
 ],
 "metadata": {
  "kernelspec": {
   "display_name": "Python 3",
   "language": "python",
   "name": "python3"
  },
  "language_info": {
   "codemirror_mode": {
    "name": "ipython",
    "version": 3
   },
   "file_extension": ".py",
   "mimetype": "text/x-python",
   "name": "python",
   "nbconvert_exporter": "python",
   "pygments_lexer": "ipython3",
   "version": "3.8.5"
  }
 },
 "nbformat": 4,
 "nbformat_minor": 4
}
