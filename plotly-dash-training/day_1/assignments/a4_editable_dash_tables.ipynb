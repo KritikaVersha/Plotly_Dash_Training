{
 "cells": [
  {
   "cell_type": "markdown",
   "metadata": {},
   "source": [
    "### 1. Data Table with Predefined Columns and Values"
   ]
  },
  {
   "cell_type": "markdown",
   "metadata": {},
   "source": [
    "1. Import dash library and dependencies\n",
    "2. Initialize the app object using Dash or JupyterDash\n",
    "3. Create an html layout using html.Div\n",
    "4. Add a dropdown component inside the layout\n",
    "5. Add a dash table with 5 columns\n",
    "6. Add a callback function that changes cell color or data values based on dropdown choices.\n",
    "7. Run the app server with inline mode using run_server\n",
    "\n",
    "<i>Dash Table design specifications</i>\n",
    "- id = loading-states-table\n",
    "- columns\n",
    "    - names: Column 1, Column 2, Column 3, Column 4, Column 5\n",
    "    - id: column_1, column_2, column_3, column_4, column_5\n",
    "    - deletable = True\n",
    "    - renamable = True\n",
    "- data\n",
    "    - Cell values with random integers\n",
    "- editable = True\n",
    "    "
   ]
  },
  {
   "cell_type": "code",
   "execution_count": null,
   "metadata": {
    "scrolled": false
   },
   "outputs": [],
   "source": [
    "from time import sleep\n",
    "from random import randint, seed\n",
    "from dash import Dash, dcc, html, dash_table\n",
    "from dash.dependencies import Input, Output\n",
    "from jupyter_dash import JupyterDash\n",
    "from dash.exceptions import PreventUpdate\n",
    "\n",
    "\n",
    "seed(0)\n",
    "\n",
    "app = JupyterDash(__name__)\n",
    "\n",
    "app.layout = html.Div([\n",
    "\n",
    "    'Choose property to load: ',\n",
    "    dcc.Dropdown(\n",
    "        id='loading-states-table-prop',\n",
    "        options=[\n",
    "            {'label': prop, 'value': prop}\n",
    "            for prop in ['style_cell', 'data']\n",
    "        ]\n",
    "    ),\n",
    "\n",
    "    html.Br(),\n",
    "\n",
    "    # Update the properties of dash table here\n",
    "    dash_table.DataTable(\n",
    "    )\n",
    "])\n",
    "\n",
    "\n",
    "@app.callback(\n",
    "    Output('loading-states-table', 'style_cell'),\n",
    "    Input('loading-states-table-prop', 'value')\n",
    ")\n",
    "def loading_style_cell(value):\n",
    "    if value == 'style_cell':\n",
    "        sleep(5)\n",
    "        return {'color': 'rgb({}, {}, {})'.format(\n",
    "            randint(0, 255),\n",
    "            randint(0, 255),\n",
    "            randint(0, 255)\n",
    "        )}\n",
    "    raise PreventUpdate\n",
    "\n",
    "\n",
    "@app.callback(\n",
    "    Output('loading-states-table', 'data'),\n",
    "    Input('loading-states-table-prop', 'value')\n",
    ")\n",
    "def loading_data(value):\n",
    "    if value == 'data':\n",
    "        sleep(5)\n",
    "        return [\n",
    "            {'column-{}'.format(i):\n",
    "             (randint(0, 100)) for i in range(5)}\n",
    "            for j in range(5)\n",
    "        ]\n",
    "    raise PreventUpdate\n",
    "\n",
    "\n",
    "app.run_server(mode='inline')"
   ]
  },
  {
   "cell_type": "code",
   "execution_count": null,
   "metadata": {},
   "outputs": [],
   "source": [
    "from IPython.display import display_html\n",
    "display_html(\"<script>Jupyter.notebook.kernel.restart()</script>\",raw=True)"
   ]
  },
  {
   "cell_type": "markdown",
   "metadata": {},
   "source": [
    "### 2. Editing data table cells"
   ]
  },
  {
   "cell_type": "code",
   "execution_count": null,
   "metadata": {},
   "outputs": [],
   "source": [
    "In this dash app, we have a data table that generates random integers in all the columns. \n",
    "Update the callback function to eliminate rows that have any cell with value = 0 "
   ]
  },
  {
   "cell_type": "code",
   "execution_count": null,
   "metadata": {},
   "outputs": [],
   "source": [
    "from dash.dependencies import Input, Output\n",
    "from dash import Dash, dcc, html, dash_table\n",
    "from jupyter_dash import JupyterDash\n",
    "\n",
    "import pprint\n",
    "\n",
    "app = JupyterDash(__name__)\n",
    "\n",
    "app.layout = html.Div([\n",
    "    dash_table.DataTable(\n",
    "        id='editing-prune-data',\n",
    "        columns=[{\n",
    "            'name': 'Column {}'.format(i),\n",
    "            'id': 'column-{}'.format(i)\n",
    "        } for i in range(1, 3)],\n",
    "        data=[\n",
    "            {'column-{}'.format(i): (j + (i-1)*5) for i in range(1, 3)}\n",
    "            for j in range(5)\n",
    "        ],\n",
    "        editable=True\n",
    "    ),\n",
    "    html.Div(id='editing-prune-data-output')\n",
    "])\n",
    "\n",
    "\n",
    "@app.callback(Output('editing-prune-data-output', 'children'),\n",
    "              Input('editing-prune-data', 'data'))\n",
    "def display_output(rows):\n",
    "    pruned_rows = []\n",
    "    # Append the cell values that do not contain value = 0 in any cell of the row\n",
    "\n",
    "    return html.Div([\n",
    "        html.Div('Raw Data'),\n",
    "        html.Pre(pprint.pformat(rows)),\n",
    "        html.Hr(),\n",
    "        html.Div('Pruned Data'),\n",
    "        html.Pre(pprint.pformat(pruned_rows)),\n",
    "    ])\n",
    "\n",
    "app.run_server(mode='inline')\n"
   ]
  },
  {
   "cell_type": "code",
   "execution_count": null,
   "metadata": {},
   "outputs": [],
   "source": [
    "from IPython.display import display_html\n",
    "display_html(\"<script>Jupyter.notebook.kernel.restart()</script>\",raw=True)"
   ]
  },
  {
   "cell_type": "markdown",
   "metadata": {},
   "source": [
    "### 3. Adding or removing columns"
   ]
  },
  {
   "cell_type": "markdown",
   "metadata": {},
   "source": [
    "In the DataTable, we've provided a built-in UI for deleting columns but not for adding columns. We recommend using an external button to add columns.\n",
    "\n",
    "Add a callback function that appends the column with value in the Input component"
   ]
  },
  {
   "cell_type": "code",
   "execution_count": null,
   "metadata": {},
   "outputs": [],
   "source": [
    "from dash.dependencies import Input, Output, State\n",
    "from dash import Dash, dcc, html, dash_table\n",
    "from jupyter_dash import JupyterDash\n",
    "\n",
    "app = JupyterDash(__name__)\n",
    "\n",
    "app.layout = html.Div([\n",
    "    html.Div([\n",
    "        dcc.Input(\n",
    "            id='editing-columns-name',\n",
    "            placeholder='Enter a column name...',\n",
    "            value='',\n",
    "            style={'padding': 10}\n",
    "        ),\n",
    "        html.Button('Add Column', id='editing-columns-button', n_clicks=0)\n",
    "    ], style={'height': 50}),\n",
    "\n",
    "    dash_table.DataTable(\n",
    "        id='editing-columns',\n",
    "        columns=[{\n",
    "            'name': 'Column {}'.format(i),\n",
    "            'id': 'column-{}'.format(i),\n",
    "            'deletable': True,\n",
    "            'renamable': True\n",
    "        } for i in range(1, 5)],\n",
    "        data=[\n",
    "            {'column-{}'.format(i): (j + (i-1)*5) for i in range(1, 5)}\n",
    "            for j in range(5)\n",
    "        ],\n",
    "        editable=True,\n",
    "    ),\n",
    "])\n",
    "\n",
    "# Update this callback functin\n",
    "@app.callback(\n",
    "    Output('editing-columns', 'columns'),\n",
    "    Input('editing-columns-button', 'n_clicks'),\n",
    "    State('editing-columns-name', 'value'),\n",
    "    State('editing-columns', 'columns'))\n",
    "def update_columns(n_clicks, value, existing_columns):\n",
    "    \n",
    "\n",
    "\n",
    "app.run_server(mode='inline')\n"
   ]
  },
  {
   "cell_type": "code",
   "execution_count": null,
   "metadata": {},
   "outputs": [],
   "source": [
    "from IPython.display import display_html\n",
    "display_html(\"<script>Jupyter.notebook.kernel.restart()</script>\",raw=True)"
   ]
  },
  {
   "cell_type": "markdown",
   "metadata": {},
   "source": [
    "### 4. Adding or removing rows"
   ]
  },
  {
   "cell_type": "code",
   "execution_count": null,
   "metadata": {},
   "outputs": [],
   "source": [
    "Update the callback function to add rows to the data table using the given button in the layo"
   ]
  },
  {
   "cell_type": "code",
   "execution_count": 3,
   "metadata": {},
   "outputs": [
    {
     "data": {
      "text/html": [
       "\n",
       "        <iframe\n",
       "            width=\"100%\"\n",
       "            height=\"650\"\n",
       "            src=\"http://127.0.0.1:8050/\"\n",
       "            frameborder=\"0\"\n",
       "            allowfullscreen\n",
       "        ></iframe>\n",
       "        "
      ],
      "text/plain": [
       "<IPython.lib.display.IFrame at 0x7f8819866310>"
      ]
     },
     "metadata": {},
     "output_type": "display_data"
    }
   ],
   "source": [
    "from dash.dependencies import Input, Output, State\n",
    "from dash import Dash, dcc, html, dash_table\n",
    "from jupyter_dash import JupyterDash\n",
    "\n",
    "app = JupyterDash(__name__)\n",
    "\n",
    "app.layout = html.Div([\n",
    "    html.Div([\n",
    "        dcc.Input(\n",
    "            id='adding-rows-name',\n",
    "            placeholder='Enter a column name...',\n",
    "            value='',\n",
    "            style={'padding': 10}\n",
    "        ),\n",
    "        html.Button('Add Column', id='adding-rows-button', n_clicks=0)\n",
    "    ], style={'height': 50}),\n",
    "\n",
    "    dash_table.DataTable(\n",
    "        id='adding-rows-table',\n",
    "        columns=[{\n",
    "            'name': 'Column {}'.format(i),\n",
    "            'id': 'column-{}'.format(i),\n",
    "            'deletable': True,\n",
    "            'renamable': True\n",
    "        } for i in range(1, 5)],\n",
    "        data=[\n",
    "            {'column-{}'.format(i): (j + (i-1)*5) for i in range(1, 5)}\n",
    "            for j in range(5)\n",
    "        ],\n",
    "        editable=True,\n",
    "        row_deletable=True\n",
    "    ),\n",
    "\n",
    "    html.Button('Add Row', id='editing-rows-button', n_clicks=0),\n",
    "])\n",
    "\n",
    "\n",
    "@app.callback(\n",
    "    Output('adding-rows-table', 'data'),\n",
    "    Input('editing-rows-button', 'n_clicks'),\n",
    "    State('adding-rows-table', 'data'),\n",
    "    State('adding-rows-table', 'columns'))\n",
    "def add_row(n_clicks, rows, columns):\n",
    "    #Update this function to append rows\n",
    "\n",
    "\n",
    "@app.callback(\n",
    "    Output('adding-rows-table', 'columns'),\n",
    "    Input('adding-rows-button', 'n_clicks'),\n",
    "    State('adding-rows-name', 'value'),\n",
    "    State('adding-rows-table', 'columns'))\n",
    "def update_columns(n_clicks, value, existing_columns):\n",
    "    if n_clicks > 0:\n",
    "        existing_columns.append({\n",
    "            'id': value, 'name': value,\n",
    "            'renamable': True, 'deletable': True\n",
    "        })\n",
    "    return existing_columns\n",
    "\n",
    "\n",
    "app.run_server(mode='inline')"
   ]
  },
  {
   "cell_type": "code",
   "execution_count": null,
   "metadata": {},
   "outputs": [
    {
     "data": {
      "text/html": [
       "<script>Jupyter.notebook.kernel.restart()</script>"
      ]
     },
     "metadata": {},
     "output_type": "display_data"
    }
   ],
   "source": [
    "from IPython.display import display_html\n",
    "display_html(\"<script>Jupyter.notebook.kernel.restart()</script>\",raw=True)"
   ]
  },
  {
   "cell_type": "markdown",
   "metadata": {},
   "source": [
    "### 5. Updating Columns of the Same Table"
   ]
  },
  {
   "cell_type": "markdown",
   "metadata": {},
   "source": [
    "There are multiple ways to update columns of a data table. Manipulating calculations in a pandas dataframe and then sending it to the data table.\n",
    "Another approch is to update the columns in the data table without moving it to a pandas dataframe or numpy array"
   ]
  },
  {
   "cell_type": "code",
   "execution_count": 1,
   "metadata": {},
   "outputs": [
    {
     "data": {
      "text/html": [
       "\n",
       "        <iframe\n",
       "            width=\"100%\"\n",
       "            height=\"650\"\n",
       "            src=\"http://127.0.0.1:8050/\"\n",
       "            frameborder=\"0\"\n",
       "            allowfullscreen\n",
       "        ></iframe>\n",
       "        "
      ],
      "text/plain": [
       "<IPython.lib.display.IFrame at 0x7fa7f03affa0>"
      ]
     },
     "metadata": {},
     "output_type": "display_data"
    }
   ],
   "source": [
    "from dash.dependencies import Input, Output, State\n",
    "from dash import Dash, dcc, html, dash_table\n",
    "from jupyter_dash import JupyterDash\n",
    "\n",
    "app = JupyterDash(__name__)\n",
    "\n",
    "app.layout = html.Div([\n",
    "    dash_table.DataTable(\n",
    "        id='computed-table',\n",
    "        columns=[\n",
    "            {'name': 'Input Data', 'id': 'input-data'},\n",
    "            {'name': 'Input Squared', 'id': 'output-data'}\n",
    "        ],\n",
    "        data=[{'input-data': i} for i in range(11)],\n",
    "        editable=True,\n",
    "    ),\n",
    "])\n",
    "\n",
    "\n",
    "@app.callback(\n",
    "    Output('computed-table', 'data'),\n",
    "    Input('computed-table', 'data_timestamp'),\n",
    "    State('computed-table', 'data'))\n",
    "def update_columns(timestamp, rows):\n",
    "    for row in rows:\n",
    "        try:\n",
    "            row['output-data'] = float(row['input-data']) ** 2\n",
    "        except:\n",
    "            row['output-data'] = 'NA'\n",
    "    return rows\n",
    "\n",
    "\n",
    "app.run_server(mode='inline')\n"
   ]
  },
  {
   "cell_type": "code",
   "execution_count": null,
   "metadata": {},
   "outputs": [],
   "source": [
    "from IPython.display import display_html\n",
    "display_html(\"<script>Jupyter.notebook.kernel.restart()</script>\",raw=True)"
   ]
  },
  {
   "cell_type": "markdown",
   "metadata": {},
   "source": [
    "### 6. Modifying the data table content"
   ]
  },
  {
   "cell_type": "code",
   "execution_count": null,
   "metadata": {},
   "outputs": [],
   "source": []
  },
  {
   "cell_type": "code",
   "execution_count": 2,
   "metadata": {
    "scrolled": true
   },
   "outputs": [
    {
     "data": {
      "text/html": [
       "\n",
       "        <iframe\n",
       "            width=\"100%\"\n",
       "            height=\"650\"\n",
       "            src=\"http://127.0.0.1:8050/\"\n",
       "            frameborder=\"0\"\n",
       "            allowfullscreen\n",
       "        ></iframe>\n",
       "        "
      ],
      "text/plain": [
       "<IPython.lib.display.IFrame at 0x7fa7f0376520>"
      ]
     },
     "metadata": {},
     "output_type": "display_data"
    }
   ],
   "source": [
    "import base64\n",
    "import io\n",
    "from dash.dependencies import Input, Output, State\n",
    "from dash import Dash, dcc, html, dash_table\n",
    "import pandas as pd\n",
    "from jupyter_dash import JupyterDash\n",
    "\n",
    "external_stylesheets = ['https://codepen.io/chriddyp/pen/bWLwgP.css']\n",
    "\n",
    "app = JupyterDash(__name__, external_stylesheets=external_stylesheets)\n",
    "\n",
    "app.layout = dash_table.DataTable(\n",
    "    columns=[\n",
    "        {\"name\": [\"\", \"Year\"], \"id\": \"year\", \"clearable\": \"first\" },\n",
    "        {\"name\": [\"City\", \"Montreal\"], \"id\": \"montreal\", \"deletable\": [False, True]},\n",
    "        {\"name\": [\"City\", \"Toronto\"], \"id\": \"toronto\", \"renamable\": True },\n",
    "        {\"name\": [\"City\", \"Ottawa\"], \"id\": \"ottawa\", \"hideable\": \"last\"},\n",
    "        {\"name\": [\"City\", \"Vancouver\"], \"id\": \"vancouver\", \"clearable\": True, \"renamable\": True, \"hideable\": True, \"deletable\": True },\n",
    "        {\"name\": [\"Climate\", \"Temperature\"], \"id\": \"temp\"},\n",
    "        {\"name\": [\"Climate\", \"Humidity\"], \"id\": \"humidity\"},\n",
    "    ],\n",
    "    data=[\n",
    "        {\n",
    "            \"year\": i,\n",
    "            \"montreal\": i * 10,\n",
    "            \"toronto\": i * 100,\n",
    "            \"ottawa\": i * -1,\n",
    "            \"vancouver\": i * -10,\n",
    "            \"temp\": i * -100,\n",
    "            \"humidity\": i * 5,\n",
    "        }\n",
    "        for i in range(10)\n",
    "    ],\n",
    "    css=[\n",
    "        {\"selector\": \".column-header--delete svg\", \"rule\": 'display: \"none\"'},\n",
    "        {\"selector\": \".column-header--delete::before\", \"rule\": 'content: \"X\"'}\n",
    "    ]\n",
    ")\n",
    "\n",
    "app.run_server(mode='inline')"
   ]
  },
  {
   "cell_type": "code",
   "execution_count": null,
   "metadata": {},
   "outputs": [
    {
     "data": {
      "text/html": [
       "<script>Jupyter.notebook.kernel.restart()</script>"
      ]
     },
     "metadata": {},
     "output_type": "display_data"
    }
   ],
   "source": [
    "from IPython.display import display_html\n",
    "display_html(\"<script>Jupyter.notebook.kernel.restart()</script>\",raw=True)"
   ]
  },
  {
   "cell_type": "markdown",
   "metadata": {},
   "source": [
    "### 7 .Data Table with Per-Column Dropdowns"
   ]
  },
  {
   "cell_type": "markdown",
   "metadata": {},
   "source": [
    "We have a dataframe with the climate conditions and temperature for values in the different city. Update the dash data table to add dropdown with categorical values based on the column"
   ]
  },
  {
   "cell_type": "code",
   "execution_count": 1,
   "metadata": {},
   "outputs": [
    {
     "data": {
      "text/html": [
       "\n",
       "        <iframe\n",
       "            width=\"100%\"\n",
       "            height=\"650\"\n",
       "            src=\"http://127.0.0.1:8050/\"\n",
       "            frameborder=\"0\"\n",
       "            allowfullscreen\n",
       "        ></iframe>\n",
       "        "
      ],
      "text/plain": [
       "<IPython.lib.display.IFrame at 0x7f9121cdc610>"
      ]
     },
     "metadata": {},
     "output_type": "display_data"
    }
   ],
   "source": [
    "from dash import Dash, dcc, html, dash_table\n",
    "import pandas as pd\n",
    "from collections import OrderedDict\n",
    "from jupyter_dash import JupyterDash\n",
    "\n",
    "app = JupyterDash(__name__)\n",
    "\n",
    "df = pd.DataFrame(OrderedDict([\n",
    "    ('climate', ['Sunny', 'Snowy', 'Sunny', 'Rainy']),\n",
    "    ('temperature', [13, 43, 50, 30]),\n",
    "    ('city', ['NYC', 'Montreal', 'Miami', 'NYC'])\n",
    "]))\n",
    "\n",
    "\n",
    "app.layout = html.Div([\n",
    "    dash_table.DataTable(\n",
    "        id='table-dropdown',\n",
    "        data=df.to_dict('records'),\n",
    "        columns=[\n",
    "        ],\n",
    "\n",
    "        editable=True,\n",
    "        dropdown={\n",
    "        }\n",
    "    ),\n",
    "    html.Div(id='table-dropdown-container')\n",
    "])\n",
    "\n",
    "\n",
    "app.run_server(mode='inline')"
   ]
  },
  {
   "cell_type": "code",
   "execution_count": null,
   "metadata": {},
   "outputs": [],
   "source": [
    "from IPython.display import display_html\n",
    "display_html(\"<script>Jupyter.notebook.kernel.restart()</script>\",raw=True)"
   ]
  },
  {
   "cell_type": "markdown",
   "metadata": {},
   "source": [
    "### 8. Data Tables with Per-Row Dropdowns"
   ]
  },
  {
   "cell_type": "markdown",
   "metadata": {},
   "source": [
    "Check out the example below which uses 'dropdown conditional' property to update neighborhood dropdown values based on the City column"
   ]
  },
  {
   "cell_type": "code",
   "execution_count": 2,
   "metadata": {},
   "outputs": [
    {
     "data": {
      "text/html": [
       "\n",
       "        <iframe\n",
       "            width=\"100%\"\n",
       "            height=\"650\"\n",
       "            src=\"http://127.0.0.1:8050/\"\n",
       "            frameborder=\"0\"\n",
       "            allowfullscreen\n",
       "        ></iframe>\n",
       "        "
      ],
      "text/plain": [
       "<IPython.lib.display.IFrame at 0x7f9121cdcc10>"
      ]
     },
     "metadata": {},
     "output_type": "display_data"
    }
   ],
   "source": [
    "from dash import Dash, dcc, html, dash_table\n",
    "import pandas as pd\n",
    "from collections import OrderedDict\n",
    "from jupyter_dash import JupyterDash\n",
    "\n",
    "app = JupyterDash(__name__)\n",
    "\n",
    "df_per_row_dropdown = pd.DataFrame(OrderedDict([\n",
    "    ('City', ['NYC', 'Montreal', 'Los Angeles']),\n",
    "    ('Neighborhood', ['Brooklyn', 'Mile End', 'Venice']),\n",
    "    ('Temperature (F)', [70, 60, 90]),\n",
    "]))\n",
    "\n",
    "\n",
    "app.layout = html.Div([\n",
    "    dash_table.DataTable(\n",
    "        id='dropdown_per_row',\n",
    "        data=df_per_row_dropdown.to_dict('records'),\n",
    "        columns=[\n",
    "            {'id': 'City', 'name': 'City'},\n",
    "            {'id': 'Neighborhood', 'name': 'Neighborhood', 'presentation': 'dropdown'},\n",
    "            {'id': 'Temperature (F)', 'name': 'Temperature (F)'}\n",
    "        ],\n",
    "\n",
    "        editable=True,\n",
    "        dropdown_conditional=[{\n",
    "            'if': {\n",
    "                'column_id': 'Neighborhood', # skip-id-check \n",
    "                'filter_query': '{City} eq \"NYC\"'\n",
    "            },\n",
    "            'options': [\n",
    "                            {'label': i, 'value': i}\n",
    "                            for i in [\n",
    "                                'Brooklyn',\n",
    "                                'Queens',\n",
    "                                'Staten Island'\n",
    "                            ]\n",
    "                        ]\n",
    "        }, {\n",
    "            'if': {\n",
    "                'column_id': 'Neighborhood',\n",
    "                'filter_query': '{City} eq \"Montreal\"'\n",
    "            },\n",
    "            'options': [\n",
    "                            {'label': i, 'value': i}\n",
    "                            for i in [\n",
    "                                'Mile End',\n",
    "                                'Plateau',\n",
    "                                'Hochelaga'\n",
    "                            ]\n",
    "                        ] \n",
    "        },\n",
    "        {\n",
    "            'if': {\n",
    "                'column_id': 'Neighborhood',\n",
    "                'filter_query': '{City} eq \"Los Angeles\"'\n",
    "            },\n",
    "            'options': [\n",
    "                            {'label': i, 'value': i}\n",
    "                            for i in [\n",
    "                                'Venice',\n",
    "                                'Hollywood',\n",
    "                                'Los Feliz'\n",
    "                            ]\n",
    "                        ] \n",
    "        }]\n",
    "    ),\n",
    "    html.Div(id='dropdown_per_row_container')\n",
    "])\n",
    "\n",
    "\n",
    "app.run_server(mode='inline')"
   ]
  },
  {
   "cell_type": "code",
   "execution_count": null,
   "metadata": {},
   "outputs": [
    {
     "data": {
      "text/html": [
       "<script>Jupyter.notebook.kernel.restart()</script>"
      ]
     },
     "metadata": {},
     "output_type": "display_data"
    }
   ],
   "source": [
    "from IPython.display import display_html\n",
    "display_html(\"<script>Jupyter.notebook.kernel.restart()</script>\",raw=True)"
   ]
  },
  {
   "cell_type": "code",
   "execution_count": null,
   "metadata": {},
   "outputs": [],
   "source": []
  }
 ],
 "metadata": {
  "kernelspec": {
   "display_name": "Python 3",
   "language": "python",
   "name": "python3"
  },
  "language_info": {
   "codemirror_mode": {
    "name": "ipython",
    "version": 3
   },
   "file_extension": ".py",
   "mimetype": "text/x-python",
   "name": "python",
   "nbconvert_exporter": "python",
   "pygments_lexer": "ipython3",
   "version": "3.8.5"
  }
 },
 "nbformat": 4,
 "nbformat_minor": 4
}
