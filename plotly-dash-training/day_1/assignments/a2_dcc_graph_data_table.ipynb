{
 "cells": [
  {
   "cell_type": "markdown",
   "metadata": {},
   "source": [
    "### Graph component"
   ]
  },
  {
   "cell_type": "markdown",
   "metadata": {},
   "source": [
    "### Create a graph comparing U.S Exports of plastic scraps to China vs. Rest of the World"
   ]
  },
  {
   "cell_type": "markdown",
   "metadata": {},
   "source": [
    "### 1.  Graph Component using plain dictionary"
   ]
  },
  {
   "cell_type": "markdown",
   "metadata": {},
   "source": [
    "#### Step 1. Create data for the graph\n",
    "\n",
    "- Variable name = rest_of_world\n",
    "- Data type: dict\n",
    "- Attributes:\n",
    "    - x = [1995, 1996, 1997, 1998, 1999, 2000, 2001, 2002, 2003,2004, 2005, 2006, 2007, 2008, 2009, 2010, 2011, 2012],\n",
    "    - y=[219, 146, 112, 127, 124, 180, 236, 207, 236, 263,350, 430, 474, 526, 488, 537, 500, 439]\n",
    "    - name = 'Rest of world'\n",
    "    - marker = {'color':'rgb(55, 83, 109)'}\n",
    "\n",
    "\n",
    "- Variable name = china\n",
    "- Data type: dict\n",
    "- Attributes:\n",
    "    - x = [1995, 1996, 1997, 1998, 1999, 2000, 2001, 2002, 2003,2004, 2005, 2006, 2007, 2008, 2009, 2010, 2011, 2012]\n",
    "    - y=[16, 13, 10, 11, 28, 37, 43, 55, 56, 88, 105, 156, 270, 299, 340, 403, 549, 499]\n",
    "    - name = 'China'\n",
    "    - marker = {'color':'rgb(26, 118, 255)'}"
   ]
  },
  {
   "cell_type": "code",
   "execution_count": null,
   "metadata": {},
   "outputs": [],
   "source": [
    "# Create data for the graph here"
   ]
  },
  {
   "cell_type": "markdown",
   "metadata": {},
   "source": [
    "#### Step 2. Create layout for the graph\n",
    "- Variable name = layout_obj\n",
    "- Data type = dict\n",
    "- Attributes:\n",
    "    - title='US Export of Plastic Scrap'\n",
    "    - showlegend=True\n",
    "    - legend=dict(x=0,y=1.0)\n",
    "    - margin=dict(l=40, r=0, t=40, b=30)"
   ]
  },
  {
   "cell_type": "code",
   "execution_count": null,
   "metadata": {},
   "outputs": [],
   "source": [
    "# Create layout for the graph here"
   ]
  },
  {
   "cell_type": "markdown",
   "metadata": {},
   "source": [
    "#### Step 3. Create figure for the graph"
   ]
  },
  {
   "cell_type": "code",
   "execution_count": null,
   "metadata": {},
   "outputs": [],
   "source": [
    "figure_obj = dict(\n",
    "                data = [rest_of_world, china],\n",
    "                layout = layout_obj\n",
    "                )"
   ]
  },
  {
   "cell_type": "markdown",
   "metadata": {},
   "source": [
    "#### Step 4. Create Graph component"
   ]
  },
  {
   "cell_type": "code",
   "execution_count": null,
   "metadata": {},
   "outputs": [],
   "source": [
    "from dash import Dash, dcc, html\n",
    "from jupyter_dash import JupyterDash\n",
    "\n",
    "#app = dash.Dash(__name__)\n",
    "app = JupyterDash(__name__)\n",
    "\n",
    "app.layout = html.Div([\n",
    "    dcc.Graph(\n",
    "        figure= ,\n",
    "        style={'height': 300},\n",
    "        id='my-graph'\n",
    "    )\n",
    "])\n",
    "\n",
    "app.run_server(mode='inline')"
   ]
  },
  {
   "cell_type": "code",
   "execution_count": null,
   "metadata": {},
   "outputs": [],
   "source": [
    "from IPython.display import display_html\n",
    "display_html(\"<script>Jupyter.notebook.kernel.restart()</script>\",raw=True)"
   ]
  },
  {
   "cell_type": "code",
   "execution_count": null,
   "metadata": {},
   "outputs": [],
   "source": [
    "import dash\n",
    "help(dash.dcc.Graph)"
   ]
  },
  {
   "cell_type": "markdown",
   "metadata": {},
   "source": [
    "### 2. Graph Component using Graph Objects"
   ]
  },
  {
   "cell_type": "markdown",
   "metadata": {},
   "source": [
    "The plotly.graph_objects module provides an automatically-generated hierarchy of classes called \"graph objects\" that may be used to represent figures, with a top-level class plotly.graph_objects.Figure."
   ]
  },
  {
   "cell_type": "code",
   "execution_count": null,
   "metadata": {},
   "outputs": [],
   "source": [
    "import plotly.graph_objects as go\n",
    "\n",
    "x_ticks = [1995, 1996, 1997, 1998, 1999, 2000, 2001, 2002, 2003,2004, 2005, 2006, 2007, 2008, 2009, 2010, 2011, 2012]\n",
    "rest_y_ticks = [219, 146, 112, 127, 124, 180, 236, 207, 236, 263,350, 430, 474, 526, 488, 537, 500, 439]\n",
    "china_y_ticks = [16, 13, 10, 11, 28, 37, 43, 55, 56, 88, 105, 156, 270, 299, 340, 403, 549, 499]\n",
    "fig = go.Figure(data=[go.Scatter(x=, y=), go.Scatter(x = , y= )])\n",
    "fig.show()"
   ]
  },
  {
   "cell_type": "code",
   "execution_count": null,
   "metadata": {},
   "outputs": [],
   "source": [
    "import numpy as np\n",
    "fig.add_trace(go.Scatter(x=, y=np.random.randint(500, size=len(rest_y_ticks)),\n",
    "                    mode='markers', name='markers'))"
   ]
  },
  {
   "cell_type": "code",
   "execution_count": null,
   "metadata": {},
   "outputs": [],
   "source": [
    "fig.add_trace(go.Bar(x=, y=np.random.randint(200, size=len(rest_y_ticks))))"
   ]
  },
  {
   "cell_type": "markdown",
   "metadata": {},
   "source": [
    "### 3. Graph Component using Plotly Express"
   ]
  },
  {
   "cell_type": "markdown",
   "metadata": {},
   "source": [
    "Note: the functions in Plotly Express, which is the recommended entry-point into the plotly library, are all built on top of graph objects, and all return instances of plotly.graph_objects.Figure."
   ]
  },
  {
   "cell_type": "markdown",
   "metadata": {},
   "source": [
    "### Import"
   ]
  },
  {
   "cell_type": "code",
   "execution_count": null,
   "metadata": {},
   "outputs": [],
   "source": [
    "import pandas as pd\n",
    "import numpy as np\n",
    "import seaborn as sns\n",
    "import plotly.express as px\n",
    "%matplotlib inline\n",
    "\n",
    "# Make Plotly work in your Jupyter Notebook\n",
    "from plotly.offline import download_plotlyjs, init_notebook_mode, plot, iplot\n",
    "init_notebook_mode(connected=True)"
   ]
  },
  {
   "cell_type": "markdown",
   "metadata": {},
   "source": [
    "### 1. Line Plots"
   ]
  },
  {
   "cell_type": "code",
   "execution_count": null,
   "metadata": {},
   "outputs": [],
   "source": [
    "#Get the stocks data from plotly express library\n",
    "df_stocks = px.data.stocks()\n",
    "df_stocks"
   ]
  },
  {
   "cell_type": "markdown",
   "metadata": {},
   "source": [
    "#### A. Using Plotly Express\n",
    "https://plotly.com/python-api-reference/generated/plotly.express.line"
   ]
  },
  {
   "cell_type": "markdown",
   "metadata": {},
   "source": [
    "Create a single line plot with x-axis as date and y as price of Netfliix"
   ]
  },
  {
   "cell_type": "code",
   "execution_count": null,
   "metadata": {},
   "outputs": [],
   "source": [
    "# Single line plot\n",
    "px.line(df_stocks, x='', y='', labels={'x':'', 'y':'Price'})"
   ]
  },
  {
   "cell_type": "markdown",
   "metadata": {},
   "source": [
    "#### Task - Create multiple line plots using Plotly Express"
   ]
  },
  {
   "cell_type": "code",
   "execution_count": null,
   "metadata": {},
   "outputs": [],
   "source": [
    "df_stocks_2 = pd.melt(df_stocks, id_vars=['date'], value_vars=['GOOG','AAPL','AMZN','FB','NFLX','MSFT'])\n",
    "df_stocks_2.columns = ['date','ticker','price']\n",
    "df_stocks_2['low_by'] = np.random.choice([-0.05,-0.04,-0.03,-0.02,-0.01], df_stocks_2.shape[0])\n",
    "df_stocks_2['high_by'] = np.random.choice([0, 0.01, 0.02, 0.03, 0.04, 0.05], df_stocks_2.shape[0])\n",
    "df_stocks_2"
   ]
  },
  {
   "cell_type": "markdown",
   "metadata": {},
   "source": [
    "1. Using plotly express, add a line plot with the following specifications\n",
    "- x-axis = 'date'\n",
    "- y-axis = 'price'\n",
    "- labels = {'x':'Date', 'y':'Price'}\n",
    "- line_group = 'ticker'"
   ]
  },
  {
   "cell_type": "code",
   "execution_count": null,
   "metadata": {},
   "outputs": [],
   "source": [
    "px.line(df_stocks_2, x='date', y='price', labels={'x':'Date', 'y':'Price'}, line_group = 'ticker')"
   ]
  },
  {
   "cell_type": "markdown",
   "metadata": {},
   "source": [
    "2. Use the last plot and change the color of the lines using the ticker names"
   ]
  },
  {
   "cell_type": "code",
   "execution_count": null,
   "metadata": {},
   "outputs": [],
   "source": []
  },
  {
   "cell_type": "markdown",
   "metadata": {},
   "source": [
    "3. Use the last plot and change the line style based on the ticker names"
   ]
  },
  {
   "cell_type": "code",
   "execution_count": null,
   "metadata": {},
   "outputs": [],
   "source": []
  },
  {
   "cell_type": "markdown",
   "metadata": {},
   "source": [
    "4. Use the last plot and add symbols to the plot using ticker names"
   ]
  },
  {
   "cell_type": "code",
   "execution_count": null,
   "metadata": {},
   "outputs": [],
   "source": []
  },
  {
   "cell_type": "markdown",
   "metadata": {},
   "source": [
    "5. Use the last plot and add hover name and hover data to the plot"
   ]
  },
  {
   "cell_type": "code",
   "execution_count": null,
   "metadata": {},
   "outputs": [],
   "source": []
  },
  {
   "cell_type": "markdown",
   "metadata": {},
   "source": [
    "6. Using df_stocks_2 in your line plot, create separate line plots split by ticker column"
   ]
  },
  {
   "cell_type": "code",
   "execution_count": null,
   "metadata": {},
   "outputs": [],
   "source": []
  },
  {
   "cell_type": "markdown",
   "metadata": {},
   "source": [
    "7. Add facet column wrap to display 2 tickers in each row separated by row spacing and column spacing of 0.3 each"
   ]
  },
  {
   "cell_type": "code",
   "execution_count": null,
   "metadata": {},
   "outputs": [],
   "source": [
    "df_stocks_3 = df_stocks_2[df_stocks_2.date>'2019-06-01']"
   ]
  },
  {
   "cell_type": "markdown",
   "metadata": {},
   "source": [
    "8. Create line plot using df_stocks_3, plotly express with \n",
    "- Facets for each ticker\n",
    "- x-axis = 'Date'\n",
    "- y-axis = 'price'\n",
    "- labels = {'x':'Date', 'y':'Price'}\n",
    "- error lines on y-axis "
   ]
  },
  {
   "cell_type": "code",
   "execution_count": null,
   "metadata": {},
   "outputs": [],
   "source": []
  },
  {
   "cell_type": "markdown",
   "metadata": {},
   "source": [
    "#### B. Create line plot using Graph Objects\n",
    "https://plotly.com/python-api-reference/generated/plotly.graph_objects.Scatter.html"
   ]
  },
  {
   "cell_type": "markdown",
   "metadata": {},
   "source": [
    "#### Step 1: Create a figure\n",
    "Figures can be represented in Python either as <u>dicts</u> or as <u>instances of the plotly.graph_objects</u>.Figure class, and are serialized as text in JavaScript Object Notation (JSON) before being passed to Plotly.js."
   ]
  },
  {
   "cell_type": "markdown",
   "metadata": {},
   "source": [
    "#### Figures as dictionaries"
   ]
  },
  {
   "cell_type": "code",
   "execution_count": null,
   "metadata": {},
   "outputs": [],
   "source": [
    "import plotly.graph_objects as go\n",
    "\n",
    "dict_of_fig = dict({\n",
    "    \"data\": [{\"type\": \"scatter\",\n",
    "              \"x\": df_stocks['date'],\n",
    "              \"y\": df_stocks['NFLX']}],\n",
    "    \"layout\": {\"title\": {\"text\": \"A Figure Specified By A Graph Object With A Dictionary\"}}\n",
    "})\n",
    "\n",
    "fig = go.Figure(dict_of_fig)\n",
    "\n",
    "fig.show()"
   ]
  },
  {
   "cell_type": "markdown",
   "metadata": {},
   "source": [
    "#### Figures as instance of plotly graph object"
   ]
  },
  {
   "cell_type": "code",
   "execution_count": null,
   "metadata": {},
   "outputs": [],
   "source": [
    "# Create traces\n",
    "fig = go.Figure()\n",
    "fig.add_trace(go.Scatter(x=df_stocks['date'], y=df_stocks['NFLX'], mode='lines', name='lines'))"
   ]
  },
  {
   "cell_type": "code",
   "execution_count": null,
   "metadata": {},
   "outputs": [],
   "source": [
    "# Create a figure to which I'll add plots\n",
    "fig = go.Figure()\n",
    "# You can pull individual columns of data from the dataset and use markers or not\n",
    "fig.add_trace(go.Scatter(x=df_stocks.date, y=df_stocks.AAPL, mode='lines', name='Apple'))\n",
    "fig.add_trace(go.Scatter(x=df_stocks.date, y=df_stocks.AMZN, \n",
    "                        mode='lines+markers', name='Amazon'))\n",
    "\n",
    "# You can create custom lines (Dashes : dash, dot, dashdot)\n",
    "fig.add_trace(go.Scatter(x=df_stocks.date, y=df_stocks.GOOG, \n",
    "                        mode='lines+markers', name='Google',\n",
    "                        line=dict(color='firebrick', width=2, dash='dashdot')))\n",
    "# Further style the figure\n",
    "# fig.update_layout(title='Stock Price Data 2018 - 2020',\n",
    "#                    xaxis_title='Price', yaxis_title='Date')\n",
    "\n",
    "# Go crazy styling the figure\n",
    "fig.update_layout(\n",
    "    # Shows gray line without grid, styling fonts, linewidths and more\n",
    "    xaxis=dict(\n",
    "        showline=True,\n",
    "        showgrid=False,\n",
    "        showticklabels=True,\n",
    "        linecolor='rgb(204, 204, 204)',\n",
    "        linewidth=2,\n",
    "        ticks='outside',\n",
    "        tickfont=dict(\n",
    "            family='Arial',\n",
    "            size=12,\n",
    "            color='rgb(82, 82, 82)',\n",
    "        ),\n",
    "    ),\n",
    "    # Turn off everything on y axis\n",
    "    yaxis=dict(\n",
    "        showgrid=False,\n",
    "        zeroline=False,\n",
    "        showline=False,\n",
    "        showticklabels=False,\n",
    "    ),\n",
    "    autosize=False,\n",
    "    margin=dict(\n",
    "        autoexpand=False,\n",
    "        l=100,\n",
    "        r=20,\n",
    "        t=110,\n",
    "    ),\n",
    "    showlegend=False,\n",
    "    plot_bgcolor='white'\n",
    ")"
   ]
  },
  {
   "cell_type": "markdown",
   "metadata": {},
   "source": [
    "### Additional Plotly Express Examples"
   ]
  },
  {
   "cell_type": "markdown",
   "metadata": {},
   "source": [
    "### 2. Bar Charts"
   ]
  },
  {
   "cell_type": "code",
   "execution_count": null,
   "metadata": {},
   "outputs": [],
   "source": [
    "# Get population change in US by querying for US data\n",
    "df_us = px.data.gapminder().query(\"country == 'United States'\")\n",
    "px.bar(df_us, x='year', y='pop')\n",
    "\n",
    "# Create a stacked bar with more customization\n",
    "df_tips = px.data.tips()\n",
    "px.bar(df_tips, x='day', y='tip', color='sex', title='Tips by Sex on Each Day',\n",
    "      labels={'tip': 'Tip Amount', 'day': 'Day of the Week'})\n",
    "\n",
    "# Place bars next to each other\n",
    "px.bar(df_tips, x=\"sex\", y=\"total_bill\",\n",
    "             color='smoker', barmode='group')\n",
    "\n",
    "# Display pop data for countries in Europe in 2007 greater than 2000000\n",
    "df_europe = px.data.gapminder().query(\"continent == 'Europe' and year == 2007 and pop > 2.e6\")\n",
    "fig = px.bar(df_europe, y='pop', x='country', text='pop', color='country')\n",
    "# Put bar total value above bars with 2 values of precision\n",
    "fig.update_traces(texttemplate='%{text:.2s}', textposition='outside')\n",
    "# Set fontsize and uniformtext_mode='hide' says to hide the text if it won't fit\n",
    "fig.update_layout(uniformtext_minsize=8)\n",
    "# Rotate labels 45 degrees\n",
    "fig.update_layout(xaxis_tickangle=-45)\n"
   ]
  },
  {
   "cell_type": "markdown",
   "metadata": {},
   "source": [
    "### 3. Pie Charts"
   ]
  },
  {
   "cell_type": "code",
   "execution_count": null,
   "metadata": {},
   "outputs": [],
   "source": [
    "# Create Pie chart of the largest nations in Asia\n",
    "# Color maps here plotly.com/python/builtin-colorscales/\n",
    "df_samer = px.data.gapminder().query(\"year == 2007\").query(\"continent == 'Asia'\")\n",
    "px.pie(df_samer, values='pop', names='country', \n",
    "       title='Population of Asian continent', \n",
    "       color_discrete_sequence=px.colors.sequential.RdBu)\n",
    "\n",
    "# Customize pie chart\n",
    "colors = ['blue', 'green', 'black', 'purple', 'red', 'brown']\n",
    "fig = go.Figure(data=[go.Pie(labels=['Water','Grass','Normal','Psychic', 'Fire', 'Ground'], \n",
    "                       values=[110,90,80,80,70,60])])\n",
    "# Define hover info, text size, pull amount for each pie slice, and stroke\n",
    "fig.update_traces(hoverinfo='label+percent', textfont_size=20,\n",
    "                  textinfo='label+percent', pull=[0.1, 0, 0.2, 0, 0, 0],\n",
    "                  marker=dict(colors=colors, line=dict(color='#FFFFFF', width=2)))"
   ]
  },
  {
   "cell_type": "markdown",
   "metadata": {},
   "source": [
    "### 4. Histograms"
   ]
  },
  {
   "cell_type": "code",
   "execution_count": null,
   "metadata": {},
   "outputs": [],
   "source": [
    "# Plot histogram based on rolling 2 dice\n",
    "dice_1 = np.random.randint(1,7,5000)\n",
    "dice_2 = np.random.randint(1,7,5000)\n",
    "dice_sum = dice_1 + dice_2\n",
    "# bins represent the number of bars to make\n",
    "# Can define x label, color, title\n",
    "# marginal creates another plot (violin, box, rug)\n",
    "fig = px.histogram(dice_sum, nbins=11, labels={'value':'Dice Roll'},\n",
    "             title='5000 Dice Roll Histogram', marginal='violin',\n",
    "            color_discrete_sequence=['green'])\n",
    "\n",
    "fig.update_layout(\n",
    "    xaxis_title_text='Dice Roll',\n",
    "    yaxis_title_text='Dice Sum',\n",
    "    bargap=0.2, showlegend=False\n",
    ")\n",
    "\n",
    "# Stack histograms based on different column data\n",
    "df_tips = px.data.tips()\n",
    "px.histogram(df_tips, x=\"total_bill\", color=\"sex\")"
   ]
  },
  {
   "cell_type": "markdown",
   "metadata": {},
   "source": [
    "### 5. Box Plots"
   ]
  },
  {
   "cell_type": "code",
   "execution_count": null,
   "metadata": {
    "scrolled": true
   },
   "outputs": [],
   "source": [
    "# A box plot allows you to compare different variables\n",
    "# The box shows the quartiles of the data. The bar in the middle is the median \n",
    "# The whiskers extend to all the other data aside from the points that are considered\n",
    "# to be outliers\n",
    "df_tips = px.data.tips()\n",
    "# We can see which sex tips the most, points displays all the data points\n",
    "px.box(df_tips, x='sex', y='tip', points='all')\n",
    "\n",
    "# Display tip sex data by day\n",
    "px.box(df_tips, x='day', y='tip', color='sex')\n",
    "\n",
    "# Adding standard deviation and mean\n",
    "fig = go.Figure()\n",
    "fig.add_trace(go.Box(x=df_tips.sex, y=df_tips.tip, marker_color='blue',\n",
    "                    boxmean='sd'))\n",
    "\n",
    "# Complex Styling\n",
    "df_stocks = px.data.stocks()\n",
    "fig = go.Figure()\n",
    "# Show all points, spread them so they don't overlap and change whisker width\n",
    "fig.add_trace(go.Box(y=df_stocks.GOOG, boxpoints='all', name='Google',\n",
    "                    fillcolor='blue', jitter=0.5, whiskerwidth=0.2))\n",
    "fig.add_trace(go.Box(y=df_stocks.AAPL, boxpoints='all', name='Apple',\n",
    "                    fillcolor='red', jitter=0.5, whiskerwidth=0.2))\n",
    "# Change background / grid colors\n",
    "fig.update_layout(title='Google vs. Apple', \n",
    "                  yaxis=dict(gridcolor='rgb(255, 255, 255)',\n",
    "                 gridwidth=3),\n",
    "                 paper_bgcolor='rgb(243, 243, 243)',\n",
    "                 plot_bgcolor='rgb(243, 243, 243)')"
   ]
  },
  {
   "cell_type": "markdown",
   "metadata": {},
   "source": [
    "### 6. Violin Plot"
   ]
  },
  {
   "cell_type": "code",
   "execution_count": null,
   "metadata": {},
   "outputs": [],
   "source": [
    "# Violin Plot is a combination of the boxplot and KDE\n",
    "# While a box plot corresponds to data points, the violin plot uses the KDE estimation\n",
    "# of the data points\n",
    "df_tips = px.data.tips()\n",
    "px.violin(df_tips, y=\"total_bill\", box=True, points='all')\n",
    "\n",
    "# Multiple plots\n",
    "px.violin(df_tips, y=\"tip\", x=\"smoker\", color=\"sex\", box=True, points=\"all\",\n",
    "          hover_data=df_tips.columns)\n",
    "\n",
    "# Morph left and right sides based on if the customer smokes\n",
    "fig = go.Figure()\n",
    "fig.add_trace(go.Violin(x=df_tips['day'][ df_tips['smoker'] == 'Yes' ],\n",
    "                        y=df_tips['total_bill'][ df_tips['smoker'] == 'Yes' ],\n",
    "                        legendgroup='Yes', scalegroup='Yes', name='Yes',\n",
    "                        side='negative',\n",
    "                        line_color='blue'))\n",
    "fig.add_trace(go.Violin(x=df_tips['day'][ df_tips['smoker'] == 'No' ],\n",
    "                        y=df_tips['total_bill'][ df_tips['smoker'] == 'No' ],\n",
    "                        legendgroup='Yes', scalegroup='Yes', name='No',\n",
    "                        side='positive',\n",
    "                        line_color='red'))"
   ]
  },
  {
   "cell_type": "markdown",
   "metadata": {},
   "source": [
    "### 7. Density Heatmap"
   ]
  },
  {
   "cell_type": "code",
   "execution_count": null,
   "metadata": {},
   "outputs": [],
   "source": [
    "# Create a heatmap using Seaborn data\n",
    "flights = sns.load_dataset(\"flights\")\n",
    "flights\n",
    "\n",
    "# You can set bins with nbinsx and nbinsy\n",
    "fig = px.density_heatmap(flights, x='year', y='month', z='passengers', \n",
    "                         color_continuous_scale=\"Viridis\")\n",
    "fig\n",
    "\n",
    "# You can add histograms\n",
    "fig = px.density_heatmap(flights, x='year', y='month', z='passengers', \n",
    "                         marginal_x=\"histogram\", marginal_y=\"histogram\")\n",
    "fig"
   ]
  },
  {
   "cell_type": "markdown",
   "metadata": {},
   "source": [
    "### 8. 3D Scatter Plots"
   ]
  },
  {
   "cell_type": "code",
   "execution_count": null,
   "metadata": {
    "scrolled": true
   },
   "outputs": [],
   "source": [
    "# Create a 3D scatter plot using flight data\n",
    "fig = px.scatter_3d(flights, x='year', y='month', z='passengers', color='year',\n",
    "                   opacity=0.7, width=800, height=400)\n",
    "fig"
   ]
  },
  {
   "cell_type": "markdown",
   "metadata": {},
   "source": [
    "### 9. 3D Line Plots"
   ]
  },
  {
   "cell_type": "code",
   "execution_count": null,
   "metadata": {},
   "outputs": [],
   "source": [
    "fig = px.line_3d(flights, x='year', y='month', z='passengers', color='year')\n",
    "fig"
   ]
  },
  {
   "cell_type": "markdown",
   "metadata": {},
   "source": [
    "### 10. Scatter Matrix"
   ]
  },
  {
   "cell_type": "code",
   "execution_count": null,
   "metadata": {},
   "outputs": [],
   "source": [
    "# With a scatter matrix we can compare changes when comparing column data\n",
    "fig = px.scatter_matrix(flights, color='month')\n",
    "fig"
   ]
  },
  {
   "cell_type": "markdown",
   "metadata": {},
   "source": [
    "### 11. Map Scatter Plots"
   ]
  },
  {
   "cell_type": "code",
   "execution_count": null,
   "metadata": {
    "scrolled": true
   },
   "outputs": [],
   "source": [
    "# There are many interesting ways of working with maps\n",
    "# plotly.com/python-api-reference/generated/plotly.express.scatter_geo.html\n",
    "df = px.data.gapminder().query(\"year == 2007\")\n",
    "fig = px.scatter_geo(df, locations=\"iso_alpha\",\n",
    "                     color=\"continent\", # which column to use to set the color of markers\n",
    "                     hover_name=\"country\", # column added to hover information\n",
    "                     size=\"pop\", # size of markers\n",
    "                     projection=\"orthographic\")\n",
    "fig"
   ]
  },
  {
   "cell_type": "markdown",
   "metadata": {},
   "source": [
    "### 12. Choropleth Maps"
   ]
  },
  {
   "cell_type": "code",
   "execution_count": null,
   "metadata": {},
   "outputs": [],
   "source": [
    "# You can color complex maps like we do here representing unemployment data\n",
    "\n",
    "# Allows us to grab data from a supplied URL\n",
    "from urllib.request import urlopen\n",
    "# Used to decode JSON data\n",
    "import json\n",
    "# Grab US county geometry data\n",
    "with urlopen('https://raw.githubusercontent.com/plotly/datasets/master/geojson-counties-fips.json') as response:\n",
    "    counties = json.load(response)\n",
    "\n",
    "# Grab unemployment data based on each counties Federal Information Processing number\n",
    "df = pd.read_csv(\"https://raw.githubusercontent.com/plotly/datasets/master/fips-unemp-16.csv\",\n",
    "                   dtype={\"fips\": str})\n",
    "\n",
    "# Draw map using the county JSON data, color using unemployment values on a range of 12\n",
    "fig = px.choropleth(df, geojson=counties, locations='fips', color='unemp',\n",
    "                           color_continuous_scale=\"Viridis\",\n",
    "                           range_color=(0, 12),\n",
    "                           scope=\"usa\",\n",
    "                           labels={'unemp':'unemployment rate'}\n",
    "                          )\n",
    "fig"
   ]
  },
  {
   "cell_type": "markdown",
   "metadata": {},
   "source": [
    "### 13. Polar Chart"
   ]
  },
  {
   "cell_type": "code",
   "execution_count": null,
   "metadata": {
    "scrolled": true
   },
   "outputs": [],
   "source": [
    "# Polar charts display data radially \n",
    "# Let's plot wind data based on direction and frequency\n",
    "# You can change size and auto-generate different symbols as well\n",
    "df_wind = px.data.wind()\n",
    "px.scatter_polar(df_wind, r=\"frequency\", theta=\"direction\", color=\"strength\",\n",
    "                size=\"frequency\", symbol=\"strength\")\n",
    "\n",
    "# Data can also be plotted using lines radially\n",
    "# A template makes the data easier to see\n",
    "px.line_polar(df_wind, r=\"frequency\", theta=\"direction\", color=\"strength\",\n",
    "                line_close=True, template=\"plotly_dark\", width=800, height=400)"
   ]
  },
  {
   "cell_type": "markdown",
   "metadata": {},
   "source": [
    "### 14. Animated Plots"
   ]
  },
  {
   "cell_type": "code",
   "execution_count": null,
   "metadata": {},
   "outputs": [],
   "source": [
    "# Create an animated plot that you can use to cycle through continent\n",
    "# GDP & life expectancy changes\n",
    "df_cnt = px.data.gapminder()\n",
    "px.scatter(df_cnt, x=\"gdpPercap\", y=\"lifeExp\", animation_frame=\"year\", \n",
    "           animation_group=\"country\",\n",
    "           size=\"pop\", color=\"continent\", hover_name=\"country\",\n",
    "           log_x=True, size_max=55, range_x=[100,100000], range_y=[25,90])\n",
    "\n",
    "# Watch as bars chart population changes\n",
    "px.bar(df_cnt, x=\"continent\", y=\"pop\", color=\"continent\",\n",
    "  animation_frame=\"year\", animation_group=\"country\", range_y=[0,4000000000])"
   ]
  },
  {
   "cell_type": "code",
   "execution_count": null,
   "metadata": {},
   "outputs": [],
   "source": []
  }
 ],
 "metadata": {
  "kernelspec": {
   "display_name": "Python 3",
   "language": "python",
   "name": "python3"
  },
  "language_info": {
   "codemirror_mode": {
    "name": "ipython",
    "version": 3
   },
   "file_extension": ".py",
   "mimetype": "text/x-python",
   "name": "python",
   "nbconvert_exporter": "python",
   "pygments_lexer": "ipython3",
   "version": "3.8.5"
  }
 },
 "nbformat": 4,
 "nbformat_minor": 4
}
