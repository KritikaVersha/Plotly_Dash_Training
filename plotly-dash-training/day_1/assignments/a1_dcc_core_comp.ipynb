{
 "cells": [
  {
   "cell_type": "markdown",
   "metadata": {},
   "source": [
    "## Dash Core Components"
   ]
  },
  {
   "cell_type": "markdown",
   "metadata": {},
   "source": [
    "### Import Dash library"
   ]
  },
  {
   "cell_type": "markdown",
   "metadata": {},
   "source": [
    "1. From the dash library, import\n",
    "- Dash to create an app object\n",
    "- html to create app layout\n",
    "- dcc to utilize the dash core components\n",
    "- (Optional) import JupyterDash from jupyter_dash to run Dash on Jupyter notebook"
   ]
  },
  {
   "cell_type": "code",
   "execution_count": null,
   "metadata": {},
   "outputs": [],
   "source": [
    "from dash import Dash, html, dcc\n",
    "from jupyter_dash import JupyterDash"
   ]
  },
  {
   "cell_type": "markdown",
   "metadata": {},
   "source": [
    "Check the dash library version. In this training, we will be using version 2.0.0. Update your library to this version using 'pip install dash --upgrade' OR 'pip install dash -U' on commandline tool."
   ]
  },
  {
   "cell_type": "code",
   "execution_count": null,
   "metadata": {},
   "outputs": [],
   "source": [
    "# Check dash version"
   ]
  },
  {
   "cell_type": "markdown",
   "metadata": {},
   "source": [
    "### 1. Create a dropdown"
   ]
  },
  {
   "cell_type": "markdown",
   "metadata": {},
   "source": [
    "1. Import dash library and dependencies\n",
    "2. Initialize the app object using Dash or JupyterDash\n",
    "3. Create an html layout using html.Div\n",
    "4. Add a dropdown component inside the layout\n",
    "5. Run the app server with inline mode using run_server\n",
    "\n",
    "Dropdown design specifications\n",
    "\n",
    "<i>dropdown options with labels and values of 3 cities in your state with values 1, 2, 3. <br></i>\n",
    "<i>Add initial value of your choice.<br></i>\n",
    "<i>Style the dropdown with the following: </i>\n",
    "- backgroundColor = darkslategray,\n",
    "- color = lightsteelblue\n",
    "- margin-left = 10px\n",
    "- width = 45%\n",
    "- height = 40px\n",
    "- text-align = center\n",
    "- display = inline-block\n"
   ]
  },
  {
   "cell_type": "code",
   "execution_count": null,
   "metadata": {},
   "outputs": [],
   "source": [
    "# Create a dropdown here"
   ]
  },
  {
   "cell_type": "code",
   "execution_count": null,
   "metadata": {},
   "outputs": [],
   "source": [
    "from IPython.display import display_html\n",
    "display_html(\"<script>Jupyter.notebook.kernel.restart()</script>\",raw=True)"
   ]
  },
  {
   "cell_type": "markdown",
   "metadata": {},
   "source": [
    "### Create a new dropdown with multiple inputs"
   ]
  },
  {
   "cell_type": "code",
   "execution_count": null,
   "metadata": {},
   "outputs": [],
   "source": [
    "# Create a multi-value dropdown here"
   ]
  },
  {
   "cell_type": "code",
   "execution_count": null,
   "metadata": {},
   "outputs": [],
   "source": [
    "from IPython.display import display_html\n",
    "display_html(\"<script>Jupyter.notebook.kernel.restart()</script>\",raw=True)"
   ]
  },
  {
   "cell_type": "markdown",
   "metadata": {},
   "source": [
    "### 2. Slider"
   ]
  },
  {
   "cell_type": "markdown",
   "metadata": {},
   "source": [
    "1. Import dash library and dependencies\n",
    "2. Initialize the app object using Dash or JupyterDash\n",
    "3. Create an html layout using html.Div\n",
    "4. Add a slider component inside the layout\n",
    "5. Run the app server with inline mode using run_server\n",
    "\n",
    "Slider design specifications\n",
    "- min=-5\n",
    "- max=9\n",
    "- step=0.5\n",
    "- value=-3"
   ]
  },
  {
   "cell_type": "code",
   "execution_count": null,
   "metadata": {},
   "outputs": [],
   "source": [
    "from dash import Dash, html, dcc\n",
    "from jupyter_dash import JupyterDash\n",
    "\n",
    "# Create a slider here"
   ]
  },
  {
   "cell_type": "code",
   "execution_count": null,
   "metadata": {},
   "outputs": [],
   "source": [
    "from IPython.display import display_html\n",
    "display_html(\"<script>Jupyter.notebook.kernel.restart()</script>\",raw=True)"
   ]
  },
  {
   "cell_type": "markdown",
   "metadata": {},
   "source": [
    "1. Initialize the app object using Dash or JupyterDash\n",
    "2. Create an html layout using html.Div\n",
    "3. Add a slider component inside the layout\n",
    "4. Run the app server with inline mode using run_server\n",
    "\n",
    "RangeSlider design specifications\n",
    "- min=1\n",
    "- max=10\n",
    "- step=0.5\n",
    "- value= 5\n",
    "- marks labeled as 'Label_'+ step value e.g 'Label 1', 'Label 2', 'Label 3', 'Label 4' and so on "
   ]
  },
  {
   "cell_type": "code",
   "execution_count": null,
   "metadata": {},
   "outputs": [],
   "source": [
    "from dash import Dash, html, dcc\n",
    "from jupyter_dash import JupyterDash\n",
    "\n",
    "# Create a RangeSlider here"
   ]
  },
  {
   "cell_type": "code",
   "execution_count": null,
   "metadata": {},
   "outputs": [],
   "source": [
    "from IPython.display import display_html\n",
    "display_html(\"<script>Jupyter.notebook.kernel.restart()</script>\",raw=True)"
   ]
  },
  {
   "cell_type": "markdown",
   "metadata": {},
   "source": [
    "### 3. Input"
   ]
  },
  {
   "cell_type": "markdown",
   "metadata": {},
   "source": [
    "1. Initialize the app object using Dash or JupyterDash\n",
    "2. Create an html layout using html.Div\n",
    "3. Add Input component inside the layout\n",
    "4. Run the app server with inline mode using run_server\n",
    "\n",
    "Input design specifications\n",
    "- placeholder='Enter a value...'\n",
    "- type='text' "
   ]
  },
  {
   "cell_type": "code",
   "execution_count": null,
   "metadata": {},
   "outputs": [],
   "source": [
    "from dash import Dash, html, dcc\n",
    "from jupyter_dash import JupyterDash\n",
    "\n",
    "# Create Input component here"
   ]
  },
  {
   "cell_type": "code",
   "execution_count": null,
   "metadata": {},
   "outputs": [],
   "source": [
    "from IPython.display import display_html\n",
    "display_html(\"<script>Jupyter.notebook.kernel.restart()</script>\",raw=True)"
   ]
  },
  {
   "cell_type": "markdown",
   "metadata": {},
   "source": [
    "### 4. Textarea"
   ]
  },
  {
   "cell_type": "markdown",
   "metadata": {},
   "source": [
    "1. Initialie the app object using Dash or JupyterDash\n",
    "2. Create an html layout using html.Div\n",
    "3. Add Textarea component inside the layout\n",
    "4. Run the app server with inline mode using run_server\n",
    "\n",
    "Input design specifications\n",
    "- placeholder='Enter a value...'\n",
    "- value='text' \n",
    "- style with width as 40%"
   ]
  },
  {
   "cell_type": "code",
   "execution_count": null,
   "metadata": {},
   "outputs": [],
   "source": [
    "from dash import Dash, html, dcc\n",
    "from jupyter_dash import JupyterDash\n",
    "\n",
    "# Create textarea here"
   ]
  },
  {
   "cell_type": "code",
   "execution_count": null,
   "metadata": {},
   "outputs": [],
   "source": [
    "from IPython.display import display_html\n",
    "display_html(\"<script>Jupyter.notebook.kernel.restart()</script>\",raw=True)"
   ]
  },
  {
   "cell_type": "markdown",
   "metadata": {},
   "source": [
    "### 5. Checkboxes/Checklist"
   ]
  },
  {
   "cell_type": "markdown",
   "metadata": {},
   "source": [
    "1. Initialize the app object using Dash or JupyterDash\n",
    "2. Create an html layout using html.Div\n",
    "3. Add Input component inside the layout\n",
    "4. Run the app server with inline mode using run_server\n",
    "\n",
    "Checklist design specifications\n",
    "- Add 3 options with labels and values\n",
    "- Add initial values "
   ]
  },
  {
   "cell_type": "code",
   "execution_count": null,
   "metadata": {},
   "outputs": [],
   "source": [
    "from dash import Dash, html, dcc\n",
    "from jupyter_dash import JupyterDash\n",
    "\n",
    "# Create a Checklist here"
   ]
  },
  {
   "cell_type": "code",
   "execution_count": null,
   "metadata": {},
   "outputs": [],
   "source": [
    "from IPython.display import display_html\n",
    "display_html(\"<script>Jupyter.notebook.kernel.restart()</script>\",raw=True)"
   ]
  },
  {
   "cell_type": "markdown",
   "metadata": {},
   "source": [
    "### 6. RadioItems"
   ]
  },
  {
   "cell_type": "code",
   "execution_count": null,
   "metadata": {},
   "outputs": [],
   "source": [
    "from dash import Dash, html, dcc\n",
    "from jupyter_dash import JupyterDash\n",
    "\n",
    "# Create RadioItems here with similar specifications to CheckItems "
   ]
  },
  {
   "cell_type": "code",
   "execution_count": null,
   "metadata": {},
   "outputs": [],
   "source": [
    "from IPython.display import display_html\n",
    "display_html(\"<script>Jupyter.notebook.kernel.restart()</script>\",raw=True)"
   ]
  },
  {
   "cell_type": "markdown",
   "metadata": {},
   "source": [
    "### 7. Buttons"
   ]
  },
  {
   "cell_type": "markdown",
   "metadata": {},
   "source": [
    "1. Initialize the app object using Dash or JupyterDash\n",
    "2. Create an html layout using html.Div\n",
    "3. Create a div inside the first div and add an Input component with id = 'input-field' and type = 'text'\n",
    "4. Add Button component inside the layout and name it as 'Submit' with id = 'button'\n",
    "5. Add a second div inside the initial div after Button component with id = 'output-area' and a child/children"
   ]
  },
  {
   "cell_type": "code",
   "execution_count": null,
   "metadata": {},
   "outputs": [],
   "source": [
    "from dash import Dash, html, dcc\n",
    "from jupyter_dash import JupyterDash\n",
    "\n",
    "# Create the design specificatin for button here"
   ]
  },
  {
   "cell_type": "code",
   "execution_count": null,
   "metadata": {},
   "outputs": [],
   "source": [
    "@app.callback(\n",
    "    dash.dependencies.Output('output-area', 'children'),\n",
    "    [dash.dependencies.Input('button', 'n_clicks')],\n",
    "    [dash.dependencies.State('input-field', 'value')])\n",
    "def update_output(n_clicks, value):\n",
    "    return 'The input value was \"{}\" and the button has been clicked {} times'.format(\n",
    "        value,\n",
    "        n_clicks\n",
    "    )\n",
    "\n",
    "\n",
    "app.run_server(mode='inline')"
   ]
  },
  {
   "cell_type": "code",
   "execution_count": null,
   "metadata": {},
   "outputs": [],
   "source": [
    "from IPython.display import display_html\n",
    "display_html(\"<script>Jupyter.notebook.kernel.restart()</script>\",raw=True)"
   ]
  },
  {
   "cell_type": "markdown",
   "metadata": {},
   "source": [
    "### 8. Date Picker"
   ]
  },
  {
   "cell_type": "markdown",
   "metadata": {},
   "source": [
    "1. Initialie the app object using Dash or JupyterDash\n",
    "2. Create an html layout using html.Div\n",
    "3. Add DatePickerSingle component inside the layout\n",
    "4. Run the app server with inline mode using run_server\n",
    "\n",
    "Date picker design specifications\n",
    "- Add initial date"
   ]
  },
  {
   "cell_type": "code",
   "execution_count": null,
   "metadata": {},
   "outputs": [],
   "source": [
    "from dash import Dash, html, dcc\n",
    "from jupyter_dash import JupyterDash\n",
    "\n",
    "# Create the design specifications for a single date picker here"
   ]
  },
  {
   "cell_type": "code",
   "execution_count": null,
   "metadata": {},
   "outputs": [],
   "source": [
    "from IPython.display import display_html\n",
    "display_html(\"<script>Jupyter.notebook.kernel.restart()</script>\",raw=True)"
   ]
  },
  {
   "cell_type": "markdown",
   "metadata": {},
   "source": [
    "1. Initialize the app object using Dash or JupyterDash\n",
    "2. Create an html layout using html.Div\n",
    "3. Add DatePickerRange component inside the layout\n",
    "4. Run the app server with inline mode using run_server\n",
    "\n",
    "Date picker design specifications\n",
    "- Add a start_date\n",
    "- Use end_date_placeholder_text "
   ]
  },
  {
   "cell_type": "code",
   "execution_count": null,
   "metadata": {},
   "outputs": [],
   "source": [
    "# Create the design specifications for a date range here\n"
   ]
  },
  {
   "cell_type": "code",
   "execution_count": null,
   "metadata": {},
   "outputs": [],
   "source": [
    "from IPython.display import display_html\n",
    "display_html(\"<script>Jupyter.notebook.kernel.restart()</script>\",raw=True)"
   ]
  },
  {
   "cell_type": "markdown",
   "metadata": {},
   "source": [
    "### 9. Upload Component"
   ]
  },
  {
   "cell_type": "markdown",
   "metadata": {},
   "source": [
    "1. Initialize the app object using Dash or JupyterDash\n",
    "2. Create an html layout using html.Div\n",
    "3. Add Upload component inside the layout\n",
    "4. Update the helper function to update the data table with extracted filename, last modified date and contents from Upload component\n",
    "5. Run the app server with inline mode using run_server\n",
    "6. Display the uploaded file contents\n",
    "\n",
    "Upload design specifications\n",
    "- Add id = upload-id\n",
    "- Add children in html.Div inside Upload component -> 'Drag and Drop or ',html.A('Select Files') \n",
    "- Allow for multiple uploads\n",
    "- Add a div to display output data with id = output-data"
   ]
  },
  {
   "cell_type": "code",
   "execution_count": null,
   "metadata": {},
   "outputs": [],
   "source": [
    "# Update this section by creating the design specifications for Upload component here\n",
    "import base64\n",
    "import datetime\n",
    "import io\n",
    "\n",
    "from dash.dependencies import Input, Output, State\n",
    "from dash import Dash, dcc, html, dash_table\n",
    "from jupyter_dash import JupyterDash\n",
    "\n",
    "import pandas as pd\n",
    "\n",
    "external_stylesheets = ['https://codepen.io/chriddyp/pen/bWLwgP.css']\n",
    "app = JupyterDash(__name__, external_stylesheets=external_stylesheets)\n",
    "# Update app layout\n",
    "app.layout = \n",
    " \n",
    "\n",
    "\n",
    "#Helper function to parse the file\n",
    "def parse_contents(contents, filename, date):\n",
    "    content_type, content_string = contents.split(',')\n",
    "\n",
    "    decoded = base64.b64decode(content_string)\n",
    "    try:\n",
    "        if 'csv' in filename:\n",
    "            # Assume that the user uploaded a CSV file\n",
    "            df = pd.read_csv(\n",
    "                io.StringIO(decoded.decode('utf-8')))\n",
    "        elif 'xls' in filename:\n",
    "            # Assume that the user uploaded an excel file\n",
    "            df = pd.read_excel(io.BytesIO(decoded))\n",
    "    except Exception as e:\n",
    "        print(e)\n",
    "        return html.Div([\n",
    "            'There was an error processing this file.'\n",
    "        ])\n",
    "\n",
    "    return html.Div([\n",
    "        # Add filename extracted by Upload component here\n",
    "        html.H5(),\n",
    "        #Add last modified date extracted by Upload component here\n",
    "        html.H6(datetime.datetime.fromtimestamp()),\n",
    "\n",
    "        dash_table.DataTable(\n",
    "            # Read the file here by converting the dataframme into dictionary format and record orientation\n",
    "            data=,\n",
    "            columns=[{'name': i, 'id': i} for i in df.columns]\n",
    "        ),\n",
    "\n",
    "        html.Hr(),  # horizontal line\n",
    "    ])\n",
    "\n",
    "\n",
    "@app.callback(Output('output-data-upload', 'children'),\n",
    "              Input('upload-data', 'contents'),\n",
    "              State('upload-data', 'filename'),\n",
    "              State('upload-data', 'last_modified'))\n",
    "def update_output(list_of_contents, list_of_names, list_of_dates):\n",
    "    if list_of_contents is not None:\n",
    "        children = [\n",
    "            parse_contents(c, n, d) for c, n, d in\n",
    "            zip(list_of_contents, list_of_names, list_of_dates)]\n",
    "        return children\n",
    "    \n",
    "app.run_server(mode='inline')"
   ]
  },
  {
   "cell_type": "code",
   "execution_count": null,
   "metadata": {},
   "outputs": [],
   "source": [
    "from IPython.display import display_html\n",
    "display_html(\"<script>Jupyter.notebook.kernel.restart()</script>\",raw=True)"
   ]
  },
  {
   "cell_type": "markdown",
   "metadata": {},
   "source": [
    "### 10. Download Component"
   ]
  },
  {
   "cell_type": "markdown",
   "metadata": {},
   "source": [
    "1. Initialize the app object using Dash or JupyterDash\n",
    "2. Create an html layout using html.Div\n",
    "3. Add html button with id = btn-text\n",
    "4. Add Download component inside the layout\n",
    "5. Update the callback function to create a text file\n",
    "6. Run the app server with inline mode using run_server\n",
    "7. Open the downloaded file\n",
    "\n",
    "- Download design specifications\n",
    "    - Add id = download-text\n",
    "- Button design specifications\n",
    "    - Add id = btn-text"
   ]
  },
  {
   "cell_type": "code",
   "execution_count": null,
   "metadata": {},
   "outputs": [],
   "source": [
    "from dash.dependencies import Output, Input\n",
    "from dash import Dash, dcc, html\n",
    "from jupyter_dash import JupyterDash\n",
    "\n",
    "#app = dash.Dash(prevent_initial_callbacks=True)\n",
    "app = JupyterDash(prevent_initial_callbacks=True)\n",
    "\n",
    "# Create the design specifications for Download component here\n",
    "app.layout = \n",
    "\n",
    "\n",
    "@app.callback(Output(\"download-text-index\", \"data\"), Input(\"btn_txt\", \"n_clicks\"))\n",
    "def func(n_clicks):\n",
    "    if n_clicks is None:\n",
    "        raise dash.exceptions.PreventUpdate\n",
    "    else:\n",
    "        #Update the dictionary\n",
    "        return dict(content=, filename=)\n",
    "\n",
    "\n",
    "app.run_server(mode='inline')"
   ]
  },
  {
   "cell_type": "code",
   "execution_count": null,
   "metadata": {},
   "outputs": [],
   "source": [
    "from IPython.display import display_html\n",
    "display_html(\"<script>Jupyter.notebook.kernel.restart()</script>\",raw=True)"
   ]
  },
  {
   "cell_type": "markdown",
   "metadata": {},
   "source": [
    "### 11. Tabs"
   ]
  },
  {
   "cell_type": "markdown",
   "metadata": {},
   "source": [
    "1. Initialize the app object using Dash or JupyterDash\n",
    "2. Create an html layout using html.Div\n",
    "3. Add Tabs component inside the layout\n",
    "4. Add a div to output tab content\n",
    "5. Update the callback function render_content\n",
    "4. Run the app server with inline mode using run_server\n",
    "\n",
    "- Tabs design specifications\n",
    "    -id = 'tabs' \n",
    "    -Initial value of tabs = 'tab-1'\n",
    "    - Tabs has 2 children:\n",
    "        - Tab 1: label = 'Tab one', value = 'tab-1'\n",
    "        - Tab 2: label = 'Tab two', value = 'tab-2'\n"
   ]
  },
  {
   "cell_type": "code",
   "execution_count": null,
   "metadata": {},
   "outputs": [],
   "source": [
    "# Create the design specifications for Tab component here\n",
    "from dash import Dash, dcc, html\n",
    "from jupyter_dash import JupyterDash\n",
    "\n",
    "from dash.dependencies import Input, Output\n",
    "\n",
    "external_stylesheets = ['https://codepen.io/chriddyp/pen/bWLwgP.css']\n",
    "\n",
    "#app = dash.Dash(__name__, external_stylesheets=external_stylesheets)\n",
    "app = JupyterDash(__name__, external_stylesheets=external_stylesheets)\n",
    "\n",
    "app.layout = \n",
    "\n",
    "\n",
    "@app.callback(Output('tabs-content', 'children'),\n",
    "              Input('tabs', 'value'))\n",
    "def render_content(tab):\n",
    "    # Match the value of tab 1\n",
    "    if tab == :\n",
    "        return html.Div([\n",
    "            html.H3('Tab content 1')\n",
    "        ])\n",
    "    # Match the value of tab 2\n",
    "    elif tab == :\n",
    "        return html.Div([\n",
    "            html.H3('Tab content 2')\n",
    "        ])\n",
    "\n",
    "\n",
    "app.run_server(mode='inline')"
   ]
  },
  {
   "cell_type": "code",
   "execution_count": null,
   "metadata": {},
   "outputs": [],
   "source": [
    "from IPython.display import display_html\n",
    "display_html(\"<script>Jupyter.notebook.kernel.restart()</script>\",raw=True)"
   ]
  },
  {
   "cell_type": "markdown",
   "metadata": {},
   "source": [
    "### 12. Interval"
   ]
  },
  {
   "cell_type": "markdown",
   "metadata": {},
   "source": [
    "1. Initialize the app object using Dash or JupyterDash\n",
    "2. Create an html layout using html.Div\n",
    "3. Add a header with id = 'live-counter'\n",
    "4. Add Interval component with id = 'interval-text'\n",
    "5. Update the callback function render_content\n",
    "\n",
    "<i>Design Specifications for interval component</i><br>\n",
    "- id = 'interval-text'\n",
    "- interval = 1000\n",
    "- n_interval = 0"
   ]
  },
  {
   "cell_type": "code",
   "execution_count": null,
   "metadata": {},
   "outputs": [],
   "source": [
    "# Create the design specifications for Tab component here\n",
    "from dash import Dash, dcc, html\n",
    "from jupyter_dash import JupyterDash\n",
    "\n",
    "from dash.dependencies import Input, Output\n",
    "\n",
    "\n",
    "#app = dash.Dash(__name__)\n",
    "app = JupyterDash(__name__)\n",
    "\n",
    "app.layout = \n",
    "\n",
    "\n",
    "@app.callback(Output('live-counter', 'children'),\n",
    "              [Input('interval-text', 'n_intervals')])\n",
    "def update_layout(n):\n",
    "    return 'This app has updated itself for {} times, every second.'.format(n)\n",
    "\n",
    "app.run_server(mode = 'inline')\n"
   ]
  },
  {
   "cell_type": "code",
   "execution_count": null,
   "metadata": {},
   "outputs": [],
   "source": [
    "from IPython.display import display_html\n",
    "display_html(\"<script>Jupyter.notebook.kernel.restart()</script>\",raw=True)"
   ]
  },
  {
   "cell_type": "markdown",
   "metadata": {},
   "source": [
    "### Build your own component - Refer Presentation\n",
    "(Note: Graphs, Tooltips, Data tables and Store components will be covered in the remaining assignments)\n",
    "### ----------------------------------------------------------------------------------------------------------------------------------"
   ]
  },
  {
   "cell_type": "code",
   "execution_count": null,
   "metadata": {},
   "outputs": [],
   "source": []
  }
 ],
 "metadata": {
  "kernelspec": {
   "display_name": "Python 3",
   "language": "python",
   "name": "python3"
  },
  "language_info": {
   "codemirror_mode": {
    "name": "ipython",
    "version": 3
   },
   "file_extension": ".py",
   "mimetype": "text/x-python",
   "name": "python",
   "nbconvert_exporter": "python",
   "pygments_lexer": "ipython3",
   "version": "3.8.5"
  }
 },
 "nbformat": 4,
 "nbformat_minor": 4
}
